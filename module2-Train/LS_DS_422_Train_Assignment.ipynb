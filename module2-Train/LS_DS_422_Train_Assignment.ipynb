{
 "cells": [
  {
   "cell_type": "markdown",
   "metadata": {
    "colab_type": "text",
    "id": "NGGrt9EYlCqY"
   },
   "source": [
    "\n",
    "\n",
    "# Train Practice\n",
    "\n",
    "## *Data Science Unit 4 Sprint 2 Assignment 2*\n",
    "\n",
    "Continue to use TensorFlow Keras & a sample of the [Quickdraw dataset](https://github.com/googlecreativelab/quickdraw-dataset) to build a sketch classification model. The dataset has been sampled to only 10 classes and 10000 observations per class. Please build a baseline classification model then run a few experiments with different optimizers and learning rates. \n",
    "\n",
    "*Don't forgot to switch to GPU on Colab!*\n",
    "\n",
    "\n",
    "------\n",
    "\n",
    "# Objective \n",
    "\n",
    "We are going to run a few experiments today\n",
    "\n",
    "- Train a model with and without normalized data and investigate the weight values and learning outcomes\n",
    "- Train a model with varying values for batch_size, learning_rate, and optimizers\n",
    "\n",
    "We are essentially running mannual gridsearches on our models. In module 3, we'll learn a few different ways to automate gridseach for deep learning. "
   ]
  },
  {
   "cell_type": "code",
   "execution_count": 46,
   "metadata": {},
   "outputs": [],
   "source": [
    "import os\n",
    "import datetime\n",
    "import random\n",
    "\n",
    "import numpy as np\n",
    "import pandas as pd\n",
    "import matplotlib.pyplot as plt\n",
    "import seaborn as sns\n",
    "\n",
    "import tensorflow as tf\n",
    "from tensorflow.keras import Sequential\n",
    "from tensorflow.keras.layers import Dense, ReLU\n",
    "from sklearn.model_selection import train_test_split\n",
    "\n",
    "from keras.optimizers import Adam, SGD, Adagrad, Adamax, Nadam\n",
    "from keras.activations import relu\n",
    "from tensorflow.keras.callbacks import TensorBoard"
   ]
  },
  {
   "cell_type": "code",
   "execution_count": 2,
   "metadata": {},
   "outputs": [],
   "source": [
    "%matplotlib inline\n",
    "%load_ext tensorboard"
   ]
  },
  {
   "cell_type": "markdown",
   "metadata": {},
   "source": [
    "### Load data\n",
    "\n",
    "- Don't normalize your data just yet!"
   ]
  },
  {
   "cell_type": "code",
   "execution_count": 3,
   "metadata": {
    "colab": {},
    "colab_type": "code",
    "id": "nJsIsrvp7O3e"
   },
   "outputs": [],
   "source": [
    "def load_quickdraw10():\n",
    "    \"\"\"\n",
    "    Fill out this doc string, and comment the code, for practice in writing the kind of code that will get you hired. \n",
    "    \"\"\"\n",
    "    \n",
    "    URL_ = \"https://github.com/LambdaSchool/DS-Unit-4-Sprint-2-Neural-Networks/blob/main/quickdraw10.npz?raw=true\"\n",
    "    \n",
    "    path_to_zip = tf.keras.utils.get_file('./quickdraw10.npz', origin=URL_, extract=False)\n",
    "\n",
    "    data = np.load(path_to_zip)\n",
    "\n",
    "    X = data['arr_0']\n",
    "    Y = data['arr_1']\n",
    "        \n",
    "    return train_test_split(X, Y, shuffle=True)"
   ]
  },
  {
   "cell_type": "code",
   "execution_count": 4,
   "metadata": {},
   "outputs": [],
   "source": [
    "X_train, X_test, y_train, y_test = load_quickdraw10()"
   ]
  },
  {
   "cell_type": "code",
   "execution_count": 5,
   "metadata": {},
   "outputs": [],
   "source": [
    "n_labels = len(np.unique(y_train))"
   ]
  },
  {
   "cell_type": "code",
   "execution_count": 6,
   "metadata": {},
   "outputs": [
    {
     "data": {
      "text/plain": [
       "(75000, 784)"
      ]
     },
     "execution_count": 6,
     "metadata": {},
     "output_type": "execute_result"
    }
   ],
   "source": [
    "X_train.shape"
   ]
  },
  {
   "cell_type": "markdown",
   "metadata": {
    "colab_type": "text",
    "id": "l-6PxI6H5__2"
   },
   "source": [
    "----\n",
    "### Write a Model Function\n",
    "- Write a function called `create_model` which returns a compiled TensorFlow Keras Sequential Model suitable for classifying the QuickDraw-10 dataset. \n",
    "\n",
    "Your function `create_model` should accept the following parameters\n",
    "\n",
    "- Learning Rate `lr`\n",
    "- Optimizer `opt`\n",
    "\n",
    "\n",
    "Build a model with the following architecture and parameter values\n",
    "\n",
    "- Use `1 hidden layer` \n",
    "- Use `sigmoid` activation function in hidden layer\n",
    "- Use `250 nodes` in hidden layer \n",
    "- Use `10 nodes` in output layer\n",
    "- Use `softmax` activation fucntion in output layer\n",
    "- Use `sparse_categorical_crossentropy` loss function\n",
    "- Use `accuracy` as your metric \n",
    "\n",
    "We will use this function to build all the models that we'll need to run our experiments. "
   ]
  },
  {
   "cell_type": "code",
   "execution_count": 7,
   "metadata": {},
   "outputs": [
    {
     "data": {
      "text/plain": [
       "10"
      ]
     },
     "execution_count": 7,
     "metadata": {},
     "output_type": "execute_result"
    }
   ],
   "source": [
    "n_labels"
   ]
  },
  {
   "cell_type": "code",
   "execution_count": 8,
   "metadata": {
    "colab": {},
    "colab_type": "code",
    "deletable": false,
    "id": "nEREYT-3wI1f",
    "nbgrader": {
     "cell_type": "code",
     "checksum": "6692fdabca8804cd50380fd4b9a56169",
     "grade": false,
     "grade_id": "cell-355125ca910bfedb",
     "locked": false,
     "schema_version": 3,
     "solution": true,
     "task": false
    }
   },
   "outputs": [],
   "source": [
    "def create_model(lr=.01, opt=\"adam\"):\n",
    "    \"\"\"\n",
    "    \n",
    "    Build and returns a complies Keras model.  \n",
    "    \n",
    "    Parameters\n",
    "    ----------\n",
    "    lr: float\n",
    "        Learing rate parameter used for Stocastic Gradient Descent \n",
    "        \n",
    "    opt: string\n",
    "        Name of optimizer to use\n",
    "        Valid options are \"adam\" and \"sgd\"\n",
    "        \n",
    "    Returns\n",
    "    -------\n",
    "    model: keras object \n",
    "        A complied keras model \n",
    "    \"\"\"\n",
    "\n",
    "    if opt == \"adam\":\n",
    "        opt = Adam(learning_rate=lr)\n",
    "    elif opt == 'sgd':\n",
    "        opt = SGD(learning_rate=lr)\n",
    "    else:\n",
    "        print (\"{} is not a valid option. Defaulting to Adam optimizer\".format(opt))\n",
    "        opt = Adam(learning_rate=lr)\n",
    "\n",
    "    # build model here\n",
    "    model = Sequential()\n",
    "    model.add(Dense(250, \n",
    "                    activation='sigmoid', \n",
    "                    input_dim=784))\n",
    "    model.add(Dense(10, \n",
    "                   activation='softmax'))\n",
    "    model.compile(loss='sparse_categorical_crossentropy', \n",
    "                  optimizer=opt,\n",
    "                  metrics=['accuracy'])\n",
    "    return model"
   ]
  },
  {
   "cell_type": "code",
   "execution_count": 9,
   "metadata": {},
   "outputs": [],
   "source": [
    "# a check on model architecture\n",
    "model = create_model()\n",
    "n_layers = len(model.get_config()[\"layers\"])\n",
    "output_act_funct =  model.get_config()[\"layers\"][-1][\"config\"][\"activation\"]\n",
    "\n",
    "assert n_layers == 3, \"You should have an input, one hidden, and an output layer\"\n",
    "assert output_act_funct == \"softmax\", \"Output act funct should be softmax\""
   ]
  },
  {
   "cell_type": "markdown",
   "metadata": {},
   "source": [
    "------\n",
    "\n",
    "# Experiment #1: How does normalized input data affect our model's learning outcome?\n",
    "\n",
    "In this experiment we are going to answer the above question by training identifical models on a normalized data set and on a non-normalized data set. \n",
    "\n",
    "Then we will \n",
    "\n",
    "- Analyze the trained weight values of our model \n",
    "- Plot"
   ]
  },
  {
   "cell_type": "code",
   "execution_count": 10,
   "metadata": {},
   "outputs": [],
   "source": [
    "# Clear any logs from previous runs\n",
    "!rm -rf ./logs/"
   ]
  },
  {
   "cell_type": "markdown",
   "metadata": {},
   "source": [
    "### Fit Model on Non-Normalized data"
   ]
  },
  {
   "cell_type": "code",
   "execution_count": 11,
   "metadata": {},
   "outputs": [
    {
     "name": "stdout",
     "output_type": "stream",
     "text": [
      "Epoch 1/10\n",
      "2344/2344 [==============================] - 5s 2ms/step - loss: 1.1403 - accuracy: 0.6440 - val_loss: 0.8617 - val_accuracy: 0.7374\n",
      "Epoch 2/10\n",
      "2344/2344 [==============================] - 4s 2ms/step - loss: 0.8346 - accuracy: 0.7427 - val_loss: 0.7776 - val_accuracy: 0.7628\n",
      "Epoch 3/10\n",
      "2344/2344 [==============================] - 4s 2ms/step - loss: 0.7794 - accuracy: 0.7570 - val_loss: 0.7654 - val_accuracy: 0.7651\n",
      "Epoch 4/10\n",
      "2344/2344 [==============================] - 4s 2ms/step - loss: 0.7550 - accuracy: 0.7647 - val_loss: 0.7527 - val_accuracy: 0.7708\n",
      "Epoch 5/10\n",
      "2344/2344 [==============================] - 4s 2ms/step - loss: 0.7350 - accuracy: 0.7740 - val_loss: 0.7387 - val_accuracy: 0.7686\n",
      "Epoch 6/10\n",
      "2344/2344 [==============================] - 4s 2ms/step - loss: 0.7095 - accuracy: 0.7790 - val_loss: 0.7110 - val_accuracy: 0.7790\n",
      "Epoch 7/10\n",
      "2344/2344 [==============================] - 4s 2ms/step - loss: 0.6926 - accuracy: 0.7822 - val_loss: 0.7006 - val_accuracy: 0.7834\n",
      "Epoch 8/10\n",
      "2344/2344 [==============================] - 4s 2ms/step - loss: 0.6870 - accuracy: 0.7870 - val_loss: 0.6980 - val_accuracy: 0.7831\n",
      "Epoch 9/10\n",
      "2344/2344 [==============================] - 5s 2ms/step - loss: 0.6849 - accuracy: 0.7853 - val_loss: 0.7132 - val_accuracy: 0.7788\n",
      "Epoch 10/10\n",
      "2344/2344 [==============================] - 5s 2ms/step - loss: 0.6969 - accuracy: 0.7831 - val_loss: 0.6886 - val_accuracy: 0.7859\n"
     ]
    },
    {
     "data": {
      "text/plain": [
       "<tensorflow.python.keras.callbacks.History at 0x7f4fdfbcf760>"
      ]
     },
     "execution_count": 11,
     "metadata": {},
     "output_type": "execute_result"
    }
   ],
   "source": [
    "# fit model on non-normalized data\n",
    "\n",
    "now = datetime.datetime.now().strftime(\"%Y%m%d-%H%M%S\")\n",
    "logdir = os.path.join(\"logs\", f\"No_Normalization-{now}\")\n",
    "tensorboard = TensorBoard(log_dir=logdir,  histogram_freq=1)\n",
    "\n",
    "model = create_model(lr=.001, opt=\"adam\")\n",
    "\n",
    "model.fit(X_train, y_train, \n",
    "          validation_data=(X_test, y_test),\n",
    "          workers=-2, \n",
    "          epochs=10, \n",
    "          batch_size=32, \n",
    "          verbose=1, \n",
    "          callbacks=[tensorboard])"
   ]
  },
  {
   "cell_type": "markdown",
   "metadata": {},
   "source": [
    "---------\n",
    "\n",
    "### Fit Model on Normalized data"
   ]
  },
  {
   "cell_type": "code",
   "execution_count": 12,
   "metadata": {
    "deletable": false,
    "nbgrader": {
     "cell_type": "code",
     "checksum": "ccc6ed9c1e2c04f77eac26d557236dad",
     "grade": false,
     "grade_id": "cell-2792e5f1fbf02c67",
     "locked": false,
     "schema_version": 3,
     "solution": true,
     "task": false
    }
   },
   "outputs": [],
   "source": [
    "# Normalize your training and test sets \n",
    "# save normalized data to X_train_scaled and X_test_scaled\n",
    "\n",
    "# YOUR CODE HERE\n",
    "X_train_scaled = X_train.astype('float32')/255\n",
    "X_test_scaled = X_test.astype('float32')/255"
   ]
  },
  {
   "cell_type": "code",
   "execution_count": 13,
   "metadata": {},
   "outputs": [
    {
     "name": "stdout",
     "output_type": "stream",
     "text": [
      "Epoch 1/10\n",
      "2344/2344 [==============================] - 5s 2ms/step - loss: 0.9514 - accuracy: 0.7160 - val_loss: 0.6576 - val_accuracy: 0.7987\n",
      "Epoch 2/10\n",
      "2344/2344 [==============================] - 4s 2ms/step - loss: 0.5705 - accuracy: 0.8318 - val_loss: 0.5314 - val_accuracy: 0.8426\n",
      "Epoch 3/10\n",
      "2344/2344 [==============================] - 4s 2ms/step - loss: 0.4666 - accuracy: 0.8600 - val_loss: 0.4788 - val_accuracy: 0.8582\n",
      "Epoch 4/10\n",
      "2344/2344 [==============================] - 4s 2ms/step - loss: 0.4168 - accuracy: 0.8750 - val_loss: 0.4599 - val_accuracy: 0.8619\n",
      "Epoch 5/10\n",
      "2344/2344 [==============================] - 5s 2ms/step - loss: 0.3629 - accuracy: 0.8923 - val_loss: 0.4459 - val_accuracy: 0.8663\n",
      "Epoch 6/10\n",
      "2344/2344 [==============================] - 5s 2ms/step - loss: 0.3262 - accuracy: 0.9035 - val_loss: 0.4389 - val_accuracy: 0.8695\n",
      "Epoch 7/10\n",
      "2344/2344 [==============================] - 4s 2ms/step - loss: 0.2921 - accuracy: 0.9143 - val_loss: 0.4368 - val_accuracy: 0.8716\n",
      "Epoch 8/10\n",
      "2344/2344 [==============================] - 4s 2ms/step - loss: 0.2741 - accuracy: 0.9194 - val_loss: 0.4393 - val_accuracy: 0.8716\n",
      "Epoch 9/10\n",
      "2344/2344 [==============================] - 5s 2ms/step - loss: 0.2428 - accuracy: 0.9291 - val_loss: 0.4357 - val_accuracy: 0.8725\n",
      "Epoch 10/10\n",
      "2344/2344 [==============================] - 4s 2ms/step - loss: 0.2205 - accuracy: 0.9384 - val_loss: 0.4421 - val_accuracy: 0.8724\n"
     ]
    },
    {
     "data": {
      "text/plain": [
       "<tensorflow.python.keras.callbacks.History at 0x7f4fdf238100>"
      ]
     },
     "execution_count": 13,
     "metadata": {},
     "output_type": "execute_result"
    }
   ],
   "source": [
    "# train model on normalized data\n",
    "\n",
    "now = datetime.datetime.now().strftime(\"%Y%m%d-%H%M%S\")\n",
    "logdir = os.path.join(\"logs\", f\"Normalization-{now}\")\n",
    "tensorboard = TensorBoard(log_dir=logdir,  histogram_freq=1)\n",
    "\n",
    "norm_model = create_model(lr=.001, opt=\"adam\")\n",
    "\n",
    "norm_model.fit(X_train_scaled, y_train, \n",
    "          validation_data=(X_test_scaled, y_test),\n",
    "          workers=-2, \n",
    "          epochs=10, \n",
    "          batch_size=32, \n",
    "          verbose=1, \n",
    "          callbacks=[tensorboard])"
   ]
  },
  {
   "cell_type": "markdown",
   "metadata": {},
   "source": [
    "### Each layer is labeled\n",
    "\n",
    "Take note of the label for each layer in the network. It is these labels that will help you identify the corresponding bias and weight distribtuions on tensorboard. \n",
    "\n",
    "Assuming that you've ran `create_model` 3 times: once for the model check, once to create `model`, and once to create `norm_model`:\n",
    "\n",
    "The name of the layers for `model` should be \n",
    "- dense_2\n",
    "- dense_3\n",
    "\n",
    "The name of the layers for `norm_model` should be \n",
    "- dense_4\n",
    "- dense_5\n",
    "\n",
    "\n",
    "If you keep retraining one or both of these models, tensorflow will increment the integer used in the layer names.  But that doesn't really matter, just take notice of the layer names so you can find their corresponding bias and weight distribtuions in tensorboard.\n",
    "\n",
    "**Protip:** If you want to reset the integer incrementation that tensorflow uses, you'll need to restart your notebook's kernal. "
   ]
  },
  {
   "cell_type": "code",
   "execution_count": 14,
   "metadata": {},
   "outputs": [
    {
     "name": "stdout",
     "output_type": "stream",
     "text": [
      "Model: \"sequential_1\"\n",
      "_________________________________________________________________\n",
      "Layer (type)                 Output Shape              Param #   \n",
      "=================================================================\n",
      "dense_2 (Dense)              (None, 250)               196250    \n",
      "_________________________________________________________________\n",
      "dense_3 (Dense)              (None, 10)                2510      \n",
      "=================================================================\n",
      "Total params: 198,760\n",
      "Trainable params: 198,760\n",
      "Non-trainable params: 0\n",
      "_________________________________________________________________\n"
     ]
    }
   ],
   "source": [
    "model.summary()"
   ]
  },
  {
   "cell_type": "code",
   "execution_count": 15,
   "metadata": {},
   "outputs": [
    {
     "name": "stdout",
     "output_type": "stream",
     "text": [
      "Model: \"sequential_2\"\n",
      "_________________________________________________________________\n",
      "Layer (type)                 Output Shape              Param #   \n",
      "=================================================================\n",
      "dense_4 (Dense)              (None, 250)               196250    \n",
      "_________________________________________________________________\n",
      "dense_5 (Dense)              (None, 10)                2510      \n",
      "=================================================================\n",
      "Total params: 198,760\n",
      "Trainable params: 198,760\n",
      "Non-trainable params: 0\n",
      "_________________________________________________________________\n"
     ]
    }
   ],
   "source": [
    "norm_model.summary()"
   ]
  },
  {
   "cell_type": "markdown",
   "metadata": {},
   "source": [
    "### Tensorboard \n",
    "\n",
    "- Run the cell below to launch tensorboard \n",
    "- Click on the `SCALARS` tab to see plots that compare the loss and accuracy between the two models\n",
    "- Cick on the `HISTOGRAMS` tab to see the distribution of the learned weights "
   ]
  },
  {
   "cell_type": "code",
   "execution_count": 16,
   "metadata": {},
   "outputs": [
    {
     "data": {
      "text/html": [
       "\n",
       "      <iframe id=\"tensorboard-frame-7f05bb398f92f358\" width=\"100%\" height=\"800\" frameborder=\"0\">\n",
       "      </iframe>\n",
       "      <script>\n",
       "        (function() {\n",
       "          const frame = document.getElementById(\"tensorboard-frame-7f05bb398f92f358\");\n",
       "          const url = new URL(\"/\", window.location);\n",
       "          const port = 6006;\n",
       "          if (port) {\n",
       "            url.port = port;\n",
       "          }\n",
       "          frame.src = url;\n",
       "        })();\n",
       "      </script>\n",
       "    "
      ],
      "text/plain": [
       "<IPython.core.display.HTML object>"
      ]
     },
     "metadata": {},
     "output_type": "display_data"
    }
   ],
   "source": [
    "%tensorboard --logdir logs"
   ]
  },
  {
   "cell_type": "markdown",
   "metadata": {},
   "source": [
    "### Tensorboard \n",
    "\n",
    "Check out the loss and accuracy plots on the `SCALARS` tab. \n",
    "\n",
    "What you should see is that the accuracy is much higher for the model that was given normalized data; conversely, the loss is much lower for the model that was given normalized data. \n",
    "\n",
    "Recall that what we are doing whenever training a model is adjusting the value of the bias and weights in each layer. For simplicity of analysis, we only trained two layers: a hidden layer and the output layer. \n",
    "\n",
    "Now click on the `HISTOGRAM` tab. \n",
    "\n",
    "You should see both of your model's layer names. \n",
    "\n",
    "### Hidden Layer Distributions\n",
    "\n",
    "Collapse the charts that correspond to the output layer so only the distributions for the weights and bias in the hidden layer are showing. (i.e. Only expand `dense_2` and `dense_4`). \n",
    "\n",
    "Also don't be confused by the word `kernel`, that's just the word that Tensorflow uses instead of weights. So, to be clear, **the kernal distributions are the weight values.** \n",
    "\n",
    "The `bias` distributions are the bias values. \n",
    "\n",
    "You should see 10 distributions stacked next to each other, **one distribution per epoch.**\n",
    "\n",
    "The distribuion in the far back corresponds to the weight values at epoch 1 (tensorflow starts the count at 0, like the index for a list). The distribution at the very front corresponds to the weight values at the 10th epoch (tensorflow indexing show 9 instead of 10).\n",
    "\n",
    "Notice how the shape of the distribution changes accross epochs? That's because their **values are being updated via Gradient Descent.** \n",
    "\n",
    "The distributions that you see are direclty responsible for the validation accuracy of our models. The reason why they look different between the two models is because one model was given normalize data and one wasn't. So you can conclude that the weight distributions in `dense_4` produce a higher validation accuracy than the weight distributions in `dense_2`. \n",
    "\n",
    "Now it's time to analyze those weight values more closely. "
   ]
  },
  {
   "cell_type": "markdown",
   "metadata": {},
   "source": [
    "----------\n",
    "### Analyze Weights in Each Layer"
   ]
  },
  {
   "cell_type": "code",
   "execution_count": 19,
   "metadata": {},
   "outputs": [],
   "source": [
    "# get the final bias and weight matrices for model\n",
    "layer = model.get_layer(name=\"dense_2\")\n",
    "bias, weights = layer.get_weights()"
   ]
  },
  {
   "cell_type": "code",
   "execution_count": 20,
   "metadata": {},
   "outputs": [],
   "source": [
    "# get the final  value bias and weight magrices for norm_moel\n",
    "layer = norm_model.get_layer(name=\"dense_4\")\n",
    "bias_norm, weights_norm = layer.get_weights()"
   ]
  },
  {
   "cell_type": "code",
   "execution_count": 21,
   "metadata": {},
   "outputs": [],
   "source": [
    "# this line of code should not throw an error if the number of weights is the same for the hidden layer of both models\n",
    "# this line of code is known as a Unit Test \n",
    "assert weights.shape[0] == weights_norm.shape[0]"
   ]
  },
  {
   "cell_type": "markdown",
   "metadata": {},
   "source": [
    "### Initial Weight Values\n",
    "\n",
    "By default, Keras dense layers randomly initialize the weight values using [**GlorotUniform**](https://keras.io/api/layers/initializers/). \n",
    "\n",
    "The cell below is sampling values from the GlorotUniform distribution. Let's sample from the GlorotUniform distribution and plot it in order to get a sense of the initial distribution of our weights - before Gradient Descent starts upading their values at training time. "
   ]
  },
  {
   "cell_type": "code",
   "execution_count": 22,
   "metadata": {},
   "outputs": [],
   "source": [
    "# let's take 250 random samples form the GlorotUniform\n",
    "# because they are random samples their exact values might have been a little different for model and norm_model - but we will assume that they were not statistically different \n",
    "# 250 because that's how many weights are in the hidden layer for both of our models\n",
    "initializer = tf.keras.initializers.GlorotUniform(seed=1234)\n",
    "initial_weight_values = initializer(shape=(1, 250))"
   ]
  },
  {
   "cell_type": "code",
   "execution_count": 23,
   "metadata": {
    "scrolled": false
   },
   "outputs": [
    {
     "data": {
      "image/png": "[encoded data removed]",
      "text/plain": [
       "<Figure size 1440x432 with 1 Axes>"
      ]
     },
     "metadata": {
      "needs_background": "light"
     },
     "output_type": "display_data"
    }
   ],
   "source": [
    "plt.figure(figsize=(20,6))\n",
    "plt.title(\"Learned Weights in Hidden Layers\")\n",
    "plt.xlabel(\"Weight Values\")\n",
    "plt.grid()\n",
    "\n",
    "# by setting density=True, we are transforming our plots into probability distributions \n",
    "plt.hist(weights, bins=20, alpha=0.5, label=\"weights from model\", density=True);\n",
    "plt.hist(weights_norm, bins=20, alpha=0.5, label=\"weights from norm_model\", density=True);\n",
    "plt.hist(initial_weight_values, bins=20, alpha=0.5, label=\"initial weight values\", density=True);\n",
    "plt.legend(fontsize=\"x-large\");"
   ]
  },
  {
   "cell_type": "markdown",
   "metadata": {},
   "source": [
    "### Observations\n",
    "\n",
    "Your plot should have 3 distributions\n",
    "\n",
    "- weights from model trained on non-normalized data\n",
    "- weights from model trained on normalized data\n",
    "- initial weight values sampled from a Glorot Uniform distributions \n",
    "\n",
    "Use the plot to answer the following questions."
   ]
  },
  {
   "cell_type": "markdown",
   "metadata": {},
   "source": [
    "**Comparing the initial weights with weights_from_model, what was the effect of not using normalized data?**"
   ]
  },
  {
   "cell_type": "markdown",
   "metadata": {
    "deletable": false,
    "nbgrader": {
     "cell_type": "markdown",
     "checksum": "500ff9c3902f635e0a9aafa64e2cc95d",
     "grade": true,
     "grade_id": "cell-4d6c92df9d105c46",
     "locked": false,
     "points": 0,
     "schema_version": 3,
     "solution": true,
     "task": false
    }
   },
   "source": [
    "YOUR ANSWER HERE: The distribution of weights is compact when not using noremalized data compare to using normalized data"
   ]
  },
  {
   "cell_type": "markdown",
   "metadata": {},
   "source": [
    "**Comparing the initial weights with weights_from_norm_model, what was the effect of using normalized data?**"
   ]
  },
  {
   "cell_type": "markdown",
   "metadata": {
    "deletable": false,
    "nbgrader": {
     "cell_type": "markdown",
     "checksum": "23d7012c3d7ce759e5389a0dfee1892a",
     "grade": true,
     "grade_id": "cell-614992ba50bf54c4",
     "locked": false,
     "points": 0,
     "schema_version": 3,
     "solution": true,
     "task": false
    }
   },
   "source": [
    "YOUR ANSWER HERE: The distribution of the weights when using normalized data is spread out compare to using non normalize data"
   ]
  },
  {
   "cell_type": "markdown",
   "metadata": {},
   "source": [
    "**Using your understand of how Gradient Descent works, why do you think that the distributions between weights_from_model and weights_from_norm_model look so different?**"
   ]
  },
  {
   "cell_type": "markdown",
   "metadata": {
    "deletable": false,
    "nbgrader": {
     "cell_type": "markdown",
     "checksum": "52e82163ac0a8d8b47bc613199650fe2",
     "grade": true,
     "grade_id": "cell-598a597c991950f8",
     "locked": false,
     "points": 0,
     "schema_version": 3,
     "solution": true,
     "task": false
    }
   },
   "source": [
    "YOUR ANSWER HERE: Using the equation $$ \\frac{dy}{dw} =  x  $$ the value of weights is larger than when the data input x is smaller hence normalization"
   ]
  },
  {
   "cell_type": "markdown",
   "metadata": {},
   "source": [
    "----\n",
    "\n",
    "# Additional Experiments\n",
    "\n",
    "The previous experiment demonstrated the importance of normalizing our data in order to maximize model accuracy. In the next few experiments, we are going to explore the effect that certain values for Batch Size, Learning Rate, and different Optimizers have on model accuracy. \n",
    "\n",
    "Using our **create_model** model building function, conduct the following experiments. "
   ]
  },
  {
   "cell_type": "markdown",
   "metadata": {
    "colab_type": "text",
    "id": "f0pCkh8C7eGL"
   },
   "source": [
    "### Experiment with Batch Size\n",
    "* Run 5 experiments with various batch sizes of your choice. \n",
    "* Visualize the results\n",
    "* Write up an analysis of the experiments and select the \"best\" performing model among your experiments. Make sure to compare against your model's performance yesterday. "
   ]
  },
  {
   "cell_type": "code",
   "execution_count": 24,
   "metadata": {
    "colab": {},
    "colab_type": "code",
    "id": "USXjs7Hk71Hy"
   },
   "outputs": [
    {
     "name": "stdout",
     "output_type": "stream",
     "text": [
      "Epoch 1/5\n",
      "2344/2344 [==============================] - 5s 2ms/step - loss: 0.7684 - accuracy: 0.7620 - val_loss: 0.5607 - val_accuracy: 0.8334\n",
      "Epoch 2/5\n",
      "2344/2344 [==============================] - 4s 2ms/step - loss: 0.5334 - accuracy: 0.8382 - val_loss: 0.5958 - val_accuracy: 0.8272\n",
      "Epoch 3/5\n",
      "2344/2344 [==============================] - 4s 2ms/step - loss: 0.4961 - accuracy: 0.8481 - val_loss: 0.5389 - val_accuracy: 0.8417\n",
      "Epoch 4/5\n",
      "2344/2344 [==============================] - 4s 2ms/step - loss: 0.4720 - accuracy: 0.8553 - val_loss: 0.5500 - val_accuracy: 0.8382\n",
      "Epoch 5/5\n",
      "2344/2344 [==============================] - 4s 2ms/step - loss: 0.4470 - accuracy: 0.8632 - val_loss: 0.5634 - val_accuracy: 0.8394\n"
     ]
    }
   ],
   "source": [
    "model = create_model()\n",
    "bt_default = model.fit(X_train_scaled, y_train, batch_size=32, validation_data=(X_test_scaled, y_test), epochs=5)"
   ]
  },
  {
   "cell_type": "code",
   "execution_count": 25,
   "metadata": {},
   "outputs": [
    {
     "name": "stdout",
     "output_type": "stream",
     "text": [
      "Epoch 1/5\n",
      "15000/15000 [==============================] - 23s 2ms/step - loss: 0.9017 - accuracy: 0.7220 - val_loss: 0.8191 - val_accuracy: 0.7584\n",
      "Epoch 2/5\n",
      "15000/15000 [==============================] - 20s 1ms/step - loss: 0.7500 - accuracy: 0.7823 - val_loss: 0.7238 - val_accuracy: 0.7927\n",
      "Epoch 3/5\n",
      "15000/15000 [==============================] - 21s 1ms/step - loss: 0.7005 - accuracy: 0.7966 - val_loss: 0.7041 - val_accuracy: 0.8013\n",
      "Epoch 4/5\n",
      "15000/15000 [==============================] - 22s 1ms/step - loss: 0.6728 - accuracy: 0.8063 - val_loss: 0.7109 - val_accuracy: 0.8058\n",
      "Epoch 5/5\n",
      "15000/15000 [==============================] - 23s 2ms/step - loss: 0.6460 - accuracy: 0.8116 - val_loss: 0.7212 - val_accuracy: 0.8043\n"
     ]
    }
   ],
   "source": [
    "model = create_model()\n",
    "bt_1 = model.fit(X_train_scaled, y_train, batch_size=5, validation_data=(X_test_scaled, y_test), epochs=5)"
   ]
  },
  {
   "cell_type": "code",
   "execution_count": 26,
   "metadata": {},
   "outputs": [
    {
     "name": "stdout",
     "output_type": "stream",
     "text": [
      "Epoch 1/5\n",
      "750/750 [==============================] - 2s 2ms/step - loss: 0.8266 - accuracy: 0.7462 - val_loss: 0.5419 - val_accuracy: 0.8372\n",
      "Epoch 2/5\n",
      "750/750 [==============================] - 2s 3ms/step - loss: 0.4837 - accuracy: 0.8527 - val_loss: 0.5104 - val_accuracy: 0.8496\n",
      "Epoch 3/5\n",
      "750/750 [==============================] - 2s 2ms/step - loss: 0.4231 - accuracy: 0.8721 - val_loss: 0.5113 - val_accuracy: 0.8494\n",
      "Epoch 4/5\n",
      "750/750 [==============================] - 2s 2ms/step - loss: 0.3815 - accuracy: 0.8836 - val_loss: 0.5118 - val_accuracy: 0.8512\n",
      "Epoch 5/5\n",
      "750/750 [==============================] - 2s 2ms/step - loss: 0.3437 - accuracy: 0.8967 - val_loss: 0.5191 - val_accuracy: 0.8530\n"
     ]
    }
   ],
   "source": [
    "model = create_model()\n",
    "bt_2 = model.fit(X_train_scaled, y_train, batch_size=100, validation_data=(X_test_scaled, y_test), epochs=5)"
   ]
  },
  {
   "cell_type": "code",
   "execution_count": 27,
   "metadata": {},
   "outputs": [
    {
     "name": "stdout",
     "output_type": "stream",
     "text": [
      "Epoch 1/5\n",
      "150/150 [==============================] - 1s 5ms/step - loss: 1.0844 - accuracy: 0.6606 - val_loss: 0.6169 - val_accuracy: 0.8166\n",
      "Epoch 2/5\n",
      "150/150 [==============================] - 1s 4ms/step - loss: 0.5677 - accuracy: 0.8304 - val_loss: 0.5246 - val_accuracy: 0.8446\n",
      "Epoch 3/5\n",
      "150/150 [==============================] - 1s 4ms/step - loss: 0.4623 - accuracy: 0.8631 - val_loss: 0.4813 - val_accuracy: 0.8566\n",
      "Epoch 4/5\n",
      "150/150 [==============================] - 1s 4ms/step - loss: 0.3977 - accuracy: 0.8829 - val_loss: 0.4615 - val_accuracy: 0.8628\n",
      "Epoch 5/5\n",
      "150/150 [==============================] - 1s 4ms/step - loss: 0.3465 - accuracy: 0.8982 - val_loss: 0.4718 - val_accuracy: 0.8592\n"
     ]
    }
   ],
   "source": [
    "model = create_model()\n",
    "bt_3 = model.fit(X_train_scaled, y_train, batch_size=500, validation_data=(X_test_scaled, y_test), epochs=5)"
   ]
  },
  {
   "cell_type": "code",
   "execution_count": 28,
   "metadata": {},
   "outputs": [
    {
     "name": "stdout",
     "output_type": "stream",
     "text": [
      "Epoch 1/5\n",
      "75/75 [==============================] - 1s 8ms/step - loss: 1.3469 - accuracy: 0.5747 - val_loss: 0.7071 - val_accuracy: 0.7934\n",
      "Epoch 2/5\n",
      "75/75 [==============================] - 0s 7ms/step - loss: 0.6587 - accuracy: 0.8071 - val_loss: 0.6094 - val_accuracy: 0.8190\n",
      "Epoch 3/5\n",
      "75/75 [==============================] - 0s 7ms/step - loss: 0.5572 - accuracy: 0.8352 - val_loss: 0.5417 - val_accuracy: 0.8366\n",
      "Epoch 4/5\n",
      "75/75 [==============================] - 0s 6ms/step - loss: 0.4826 - accuracy: 0.8564 - val_loss: 0.5036 - val_accuracy: 0.8503\n",
      "Epoch 5/5\n",
      "75/75 [==============================] - 0s 6ms/step - loss: 0.4260 - accuracy: 0.8743 - val_loss: 0.4784 - val_accuracy: 0.8568\n"
     ]
    }
   ],
   "source": [
    "model = create_model()\n",
    "bt_4 = model.fit(X_train_scaled, y_train, batch_size=1000, validation_data=(X_test_scaled, y_test), epochs=5)"
   ]
  },
  {
   "cell_type": "code",
   "execution_count": 29,
   "metadata": {},
   "outputs": [
    {
     "data": {
      "text/html": [
       "<div>\n",
       "<style scoped>\n",
       "    .dataframe tbody tr th:only-of-type {\n",
       "        vertical-align: middle;\n",
       "    }\n",
       "\n",
       "    .dataframe tbody tr th {\n",
       "        vertical-align: top;\n",
       "    }\n",
       "\n",
       "    .dataframe thead th {\n",
       "        text-align: right;\n",
       "    }\n",
       "</style>\n",
       "<table border=\"1\" class=\"dataframe\">\n",
       "  <thead>\n",
       "    <tr style=\"text-align: right;\">\n",
       "      <th></th>\n",
       "      <th>loss</th>\n",
       "      <th>accuracy</th>\n",
       "      <th>val_loss</th>\n",
       "      <th>val_accuracy</th>\n",
       "      <th>epoch</th>\n",
       "      <th>Batch Size</th>\n",
       "    </tr>\n",
       "  </thead>\n",
       "  <tbody>\n",
       "    <tr>\n",
       "      <th>0</th>\n",
       "      <td>0.651703</td>\n",
       "      <td>0.800907</td>\n",
       "      <td>0.560721</td>\n",
       "      <td>0.83336</td>\n",
       "      <td>0</td>\n",
       "      <td>32_</td>\n",
       "    </tr>\n",
       "    <tr>\n",
       "      <th>1</th>\n",
       "      <td>0.538247</td>\n",
       "      <td>0.838013</td>\n",
       "      <td>0.595848</td>\n",
       "      <td>0.82716</td>\n",
       "      <td>1</td>\n",
       "      <td>32_</td>\n",
       "    </tr>\n",
       "    <tr>\n",
       "      <th>2</th>\n",
       "      <td>0.497873</td>\n",
       "      <td>0.848813</td>\n",
       "      <td>0.538897</td>\n",
       "      <td>0.84172</td>\n",
       "      <td>2</td>\n",
       "      <td>32_</td>\n",
       "    </tr>\n",
       "    <tr>\n",
       "      <th>3</th>\n",
       "      <td>0.474332</td>\n",
       "      <td>0.855640</td>\n",
       "      <td>0.549985</td>\n",
       "      <td>0.83824</td>\n",
       "      <td>3</td>\n",
       "      <td>32_</td>\n",
       "    </tr>\n",
       "    <tr>\n",
       "      <th>4</th>\n",
       "      <td>0.453699</td>\n",
       "      <td>0.861187</td>\n",
       "      <td>0.563438</td>\n",
       "      <td>0.83940</td>\n",
       "      <td>4</td>\n",
       "      <td>32_</td>\n",
       "    </tr>\n",
       "  </tbody>\n",
       "</table>\n",
       "</div>"
      ],
      "text/plain": [
       "       loss  accuracy  val_loss  val_accuracy  epoch Batch Size\n",
       "0  0.651703  0.800907  0.560721       0.83336      0        32_\n",
       "1  0.538247  0.838013  0.595848       0.82716      1        32_\n",
       "2  0.497873  0.848813  0.538897       0.84172      2        32_\n",
       "3  0.474332  0.855640  0.549985       0.83824      3        32_\n",
       "4  0.453699  0.861187  0.563438       0.83940      4        32_"
      ]
     },
     "execution_count": 29,
     "metadata": {},
     "output_type": "execute_result"
    }
   ],
   "source": [
    "batch_sizes = []\n",
    "\n",
    "for exp, result in zip([bt_default, bt_1, bt_2, bt_3, bt_4], [\"32_\", \"5_\", \"100_\", \"500_\", \"1000_\"]):\n",
    "\n",
    "    df = pd.DataFrame.from_dict(exp.history)\n",
    "    df['epoch'] = df.index.values\n",
    "    df['Batch Size'] = result\n",
    "\n",
    "    batch_sizes.append(df)\n",
    "\n",
    "df = pd.concat(batch_sizes)\n",
    "df['Batch Size'] = df['Batch Size'].astype('str')\n",
    "df.head()"
   ]
  },
  {
   "cell_type": "code",
   "execution_count": 33,
   "metadata": {
    "scrolled": true
   },
   "outputs": [
    {
     "data": {
      "image/png": "[encoded data removed]",
      "text/plain": [
       "<Figure size 1152x432 with 1 Axes>"
      ]
     },
     "metadata": {
      "needs_background": "light"
     },
     "output_type": "display_data"
    }
   ],
   "source": [
    "plt.figure(figsize=(16,6))\n",
    "plt.grid()\n",
    "sns.lineplot(x='epoch', y='val_accuracy', hue='Batch Size', data=df);"
   ]
  },
  {
   "cell_type": "markdown",
   "metadata": {},
   "source": [
    "Batch size 500 has the highest validation accuracy. Batch size too small doesn't give a high validation accuracy"
   ]
  },
  {
   "cell_type": "markdown",
   "metadata": {
    "colab_type": "text",
    "id": "8b-r70o8p2Dm"
   },
   "source": [
    "### Experiment with Learning Rate\n",
    "* Run 5 experiments with various learning rate magnitudes: 1, .1, .01, .001, .0001.\n",
    "* Use the \"best\" batch size from the previous experiment\n",
    "* Visualize the results\n",
    "* Write up an analysis of the experiments and select the \"best\" performing model among your experiments. Make sure to compare against the previous experiments and your model's performance yesterday. "
   ]
  },
  {
   "cell_type": "code",
   "execution_count": 34,
   "metadata": {
    "colab": {},
    "colab_type": "code",
    "id": "_SA144xx8Luf"
   },
   "outputs": [
    {
     "name": "stdout",
     "output_type": "stream",
     "text": [
      "Epoch 1/5\n",
      "2344/2344 [==============================] - 5s 2ms/step - loss: 16.2455 - accuracy: 0.3482 - val_loss: 10.7844 - val_accuracy: 0.4591\n",
      "Epoch 2/5\n",
      "2344/2344 [==============================] - 4s 2ms/step - loss: 10.2593 - accuracy: 0.4142 - val_loss: 10.4413 - val_accuracy: 0.4576\n",
      "Epoch 3/5\n",
      "2344/2344 [==============================] - 4s 2ms/step - loss: 10.0330 - accuracy: 0.4238 - val_loss: 6.0231 - val_accuracy: 0.5170\n",
      "Epoch 4/5\n",
      "2344/2344 [==============================] - 4s 2ms/step - loss: 9.8939 - accuracy: 0.4638 - val_loss: 8.3857 - val_accuracy: 0.5154\n",
      "Epoch 5/5\n",
      "2344/2344 [==============================] - 4s 2ms/step - loss: 9.1242 - accuracy: 0.4875 - val_loss: 9.2848 - val_accuracy: 0.5326\n"
     ]
    }
   ],
   "source": [
    "model = create_model(lr=1)\n",
    "bt_1 = model.fit(X_train_scaled, y_train, batch_size=32, validation_data=(X_test_scaled, y_test), epochs=5)"
   ]
  },
  {
   "cell_type": "code",
   "execution_count": 35,
   "metadata": {},
   "outputs": [
    {
     "name": "stdout",
     "output_type": "stream",
     "text": [
      "Epoch 1/5\n",
      "2344/2344 [==============================] - 5s 2ms/step - loss: 1.5727 - accuracy: 0.5783 - val_loss: 1.4319 - val_accuracy: 0.6104\n",
      "Epoch 2/5\n",
      "2344/2344 [==============================] - 4s 2ms/step - loss: 1.1642 - accuracy: 0.6750 - val_loss: 1.0697 - val_accuracy: 0.6857\n",
      "Epoch 3/5\n",
      "2344/2344 [==============================] - 5s 2ms/step - loss: 1.1232 - accuracy: 0.6769 - val_loss: 1.0744 - val_accuracy: 0.6923\n",
      "Epoch 4/5\n",
      "2344/2344 [==============================] - 5s 2ms/step - loss: 1.0775 - accuracy: 0.6975 - val_loss: 1.0238 - val_accuracy: 0.7096\n",
      "Epoch 5/5\n",
      "2344/2344 [==============================] - 5s 2ms/step - loss: 1.0196 - accuracy: 0.7086 - val_loss: 1.0390 - val_accuracy: 0.6974\n"
     ]
    }
   ],
   "source": [
    "model = create_model(lr=.1)\n",
    "bt_2 = model.fit(X_train_scaled, y_train, batch_size=32, validation_data=(X_test_scaled, y_test), epochs=5)"
   ]
  },
  {
   "cell_type": "code",
   "execution_count": 36,
   "metadata": {},
   "outputs": [
    {
     "name": "stdout",
     "output_type": "stream",
     "text": [
      "Epoch 1/5\n",
      "2344/2344 [==============================] - 5s 2ms/step - loss: 0.7757 - accuracy: 0.7593 - val_loss: 0.5688 - val_accuracy: 0.8286\n",
      "Epoch 2/5\n",
      "2344/2344 [==============================] - 5s 2ms/step - loss: 0.5348 - accuracy: 0.8366 - val_loss: 0.5881 - val_accuracy: 0.8270\n",
      "Epoch 3/5\n",
      "2344/2344 [==============================] - 5s 2ms/step - loss: 0.4927 - accuracy: 0.8495 - val_loss: 0.5616 - val_accuracy: 0.8358\n",
      "Epoch 4/5\n",
      "2344/2344 [==============================] - 5s 2ms/step - loss: 0.4736 - accuracy: 0.8546 - val_loss: 0.5593 - val_accuracy: 0.8374\n",
      "Epoch 5/5\n",
      "2344/2344 [==============================] - 5s 2ms/step - loss: 0.4345 - accuracy: 0.8650 - val_loss: 0.5597 - val_accuracy: 0.8389\n"
     ]
    }
   ],
   "source": [
    "model = create_model(lr=.01)\n",
    "bt_3 = model.fit(X_train_scaled, y_train, batch_size=32, validation_data=(X_test_scaled, y_test), epochs=5)"
   ]
  },
  {
   "cell_type": "code",
   "execution_count": 37,
   "metadata": {},
   "outputs": [
    {
     "name": "stdout",
     "output_type": "stream",
     "text": [
      "Epoch 1/5\n",
      "2344/2344 [==============================] - 5s 2ms/step - loss: 0.9628 - accuracy: 0.7115 - val_loss: 0.6317 - val_accuracy: 0.8152\n",
      "Epoch 2/5\n",
      "2344/2344 [==============================] - 5s 2ms/step - loss: 0.5725 - accuracy: 0.8309 - val_loss: 0.5266 - val_accuracy: 0.8448\n",
      "Epoch 3/5\n",
      "2344/2344 [==============================] - 5s 2ms/step - loss: 0.4710 - accuracy: 0.8610 - val_loss: 0.4809 - val_accuracy: 0.8571\n",
      "Epoch 4/5\n",
      "2344/2344 [==============================] - 5s 2ms/step - loss: 0.4107 - accuracy: 0.8777 - val_loss: 0.4585 - val_accuracy: 0.8623\n",
      "Epoch 5/5\n",
      "2344/2344 [==============================] - 5s 2ms/step - loss: 0.3670 - accuracy: 0.8903 - val_loss: 0.4474 - val_accuracy: 0.8675\n"
     ]
    }
   ],
   "source": [
    "model = create_model(lr=.001)\n",
    "bt_4 = model.fit(X_train_scaled, y_train, batch_size=32, validation_data=(X_test_scaled, y_test), epochs=5)"
   ]
  },
  {
   "cell_type": "code",
   "execution_count": 38,
   "metadata": {},
   "outputs": [
    {
     "name": "stdout",
     "output_type": "stream",
     "text": [
      "Epoch 1/5\n",
      "2344/2344 [==============================] - 5s 2ms/step - loss: 1.4655 - accuracy: 0.5898 - val_loss: 0.9022 - val_accuracy: 0.7422\n",
      "Epoch 2/5\n",
      "2344/2344 [==============================] - 5s 2ms/step - loss: 0.8651 - accuracy: 0.7522 - val_loss: 0.8123 - val_accuracy: 0.7642\n",
      "Epoch 3/5\n",
      "2344/2344 [==============================] - 5s 2ms/step - loss: 0.7838 - accuracy: 0.7718 - val_loss: 0.7645 - val_accuracy: 0.7784\n",
      "Epoch 4/5\n",
      "2344/2344 [==============================] - 5s 2ms/step - loss: 0.7459 - accuracy: 0.7825 - val_loss: 0.7268 - val_accuracy: 0.7892\n",
      "Epoch 5/5\n",
      "2344/2344 [==============================] - 5s 2ms/step - loss: 0.6946 - accuracy: 0.7988 - val_loss: 0.6959 - val_accuracy: 0.7983\n"
     ]
    }
   ],
   "source": [
    "model = create_model(lr=.0001)\n",
    "bt_5 = model.fit(X_train_scaled, y_train, batch_size=32, validation_data=(X_test_scaled, y_test), epochs=5)"
   ]
  },
  {
   "cell_type": "code",
   "execution_count": 40,
   "metadata": {},
   "outputs": [
    {
     "data": {
      "text/html": [
       "<div>\n",
       "<style scoped>\n",
       "    .dataframe tbody tr th:only-of-type {\n",
       "        vertical-align: middle;\n",
       "    }\n",
       "\n",
       "    .dataframe tbody tr th {\n",
       "        vertical-align: top;\n",
       "    }\n",
       "\n",
       "    .dataframe thead th {\n",
       "        text-align: right;\n",
       "    }\n",
       "</style>\n",
       "<table border=\"1\" class=\"dataframe\">\n",
       "  <thead>\n",
       "    <tr style=\"text-align: right;\">\n",
       "      <th></th>\n",
       "      <th>loss</th>\n",
       "      <th>accuracy</th>\n",
       "      <th>val_loss</th>\n",
       "      <th>val_accuracy</th>\n",
       "      <th>epoch</th>\n",
       "      <th>Learn Rate</th>\n",
       "    </tr>\n",
       "  </thead>\n",
       "  <tbody>\n",
       "    <tr>\n",
       "      <th>0</th>\n",
       "      <td>11.590125</td>\n",
       "      <td>0.385573</td>\n",
       "      <td>10.784443</td>\n",
       "      <td>0.45908</td>\n",
       "      <td>0</td>\n",
       "      <td>1_</td>\n",
       "    </tr>\n",
       "    <tr>\n",
       "      <th>1</th>\n",
       "      <td>10.416636</td>\n",
       "      <td>0.425307</td>\n",
       "      <td>10.441300</td>\n",
       "      <td>0.45760</td>\n",
       "      <td>1</td>\n",
       "      <td>1_</td>\n",
       "    </tr>\n",
       "    <tr>\n",
       "      <th>2</th>\n",
       "      <td>9.753556</td>\n",
       "      <td>0.440320</td>\n",
       "      <td>6.023084</td>\n",
       "      <td>0.51696</td>\n",
       "      <td>2</td>\n",
       "      <td>1_</td>\n",
       "    </tr>\n",
       "    <tr>\n",
       "      <th>3</th>\n",
       "      <td>9.440802</td>\n",
       "      <td>0.465387</td>\n",
       "      <td>8.385694</td>\n",
       "      <td>0.51544</td>\n",
       "      <td>3</td>\n",
       "      <td>1_</td>\n",
       "    </tr>\n",
       "    <tr>\n",
       "      <th>4</th>\n",
       "      <td>9.606756</td>\n",
       "      <td>0.481893</td>\n",
       "      <td>9.284779</td>\n",
       "      <td>0.53256</td>\n",
       "      <td>4</td>\n",
       "      <td>1_</td>\n",
       "    </tr>\n",
       "  </tbody>\n",
       "</table>\n",
       "</div>"
      ],
      "text/plain": [
       "        loss  accuracy   val_loss  val_accuracy  epoch Learn Rate\n",
       "0  11.590125  0.385573  10.784443       0.45908      0         1_\n",
       "1  10.416636  0.425307  10.441300       0.45760      1         1_\n",
       "2   9.753556  0.440320   6.023084       0.51696      2         1_\n",
       "3   9.440802  0.465387   8.385694       0.51544      3         1_\n",
       "4   9.606756  0.481893   9.284779       0.53256      4         1_"
      ]
     },
     "execution_count": 40,
     "metadata": {},
     "output_type": "execute_result"
    }
   ],
   "source": [
    "learning_rates = []\n",
    "\n",
    "for exp, result in zip([bt_1, bt_2, bt_3, bt_4, bt_5], [\"1_\", \".1_\", \".01_\", \".001_\", \".0001_\"]):\n",
    "\n",
    "    df = pd.DataFrame.from_dict(exp.history)\n",
    "    df['epoch'] = df.index.values\n",
    "    df['Learn Rate'] = result\n",
    "\n",
    "    learning_rates.append(df)\n",
    "\n",
    "df = pd.concat(learning_rates)\n",
    "df['Learn Rate'] = df['Learn Rate'].astype('str')\n",
    "df.head()"
   ]
  },
  {
   "cell_type": "code",
   "execution_count": 41,
   "metadata": {
    "scrolled": true
   },
   "outputs": [
    {
     "data": {
      "image/png": "[encoded data removed]",
      "text/plain": [
       "<Figure size 1152x432 with 1 Axes>"
      ]
     },
     "metadata": {
      "needs_background": "light"
     },
     "output_type": "display_data"
    }
   ],
   "source": [
    "plt.figure(figsize=(16,6))\n",
    "plt.grid()\n",
    "sns.lineplot(x='epoch', y='val_accuracy', hue='Learn Rate', data=df);"
   ]
  },
  {
   "cell_type": "markdown",
   "metadata": {},
   "source": [
    "The smaller the learning rate the higher the validation accuracy. However the lowest lerning rate doesn't have the highest val acc. This could be the model need more epoch to reach its highet val acc."
   ]
  },
  {
   "cell_type": "markdown",
   "metadata": {
    "colab_type": "text",
    "id": "gxMtSRhV9Q7I"
   },
   "source": [
    "### Experiment with different Optimizers\n",
    "* Run 5 experiments with various optimizers available in TensorFlow. See list [here](https://www.tensorflow.org/api_docs/python/tf/keras/optimizers)\n",
    "* Visualize the results\n",
    "* Write up an analysis of the experiments and select the \"best\" performing model among your experiments. Make sure to compare against the previous experiments and your model's performance yesterday.\n",
    "* Repeat the experiment combining Learning Rate and different optimizers. Does the best performing model change? "
   ]
  },
  {
   "cell_type": "code",
   "execution_count": 42,
   "metadata": {},
   "outputs": [],
   "source": [
    "def create_model(opt):\n",
    "    \"\"\"\n",
    "    \n",
    "    Build and returns a complies Keras model.  \n",
    "    \n",
    "    Parameters\n",
    "    ----------\n",
    "    lr: float\n",
    "        Learing rate parameter used for Stocastic Gradient Descent \n",
    "        \n",
    "    opt: string\n",
    "        Name of optimizer to use\n",
    "        Valid options are \"adam\" and \"sgd\"\n",
    "        \n",
    "    Returns\n",
    "    -------\n",
    "    model: keras object \n",
    "        A complied keras model \n",
    "    \"\"\"\n",
    "\n",
    "    # build model here\n",
    "    model = Sequential()\n",
    "    model.add(Dense(250, \n",
    "                    activation='sigmoid', \n",
    "                    input_dim=784))\n",
    "    model.add(Dense(10, \n",
    "                   activation='softmax'))\n",
    "    model.compile(loss='sparse_categorical_crossentropy', \n",
    "                  optimizer=opt,\n",
    "                  metrics=['accuracy'])\n",
    "    return model"
   ]
  },
  {
   "cell_type": "code",
   "execution_count": 43,
   "metadata": {
    "colab": {},
    "colab_type": "code",
    "id": "ujLuzdNA91ip"
   },
   "outputs": [
    {
     "name": "stdout",
     "output_type": "stream",
     "text": [
      "Epoch 1/5\n",
      "150/150 [==============================] - 1s 5ms/step - loss: 2.0158 - accuracy: 0.5554 - val_loss: 0.7974 - val_accuracy: 0.7618\n",
      "Epoch 2/5\n",
      "150/150 [==============================] - 1s 4ms/step - loss: 0.7369 - accuracy: 0.7738 - val_loss: 0.7341 - val_accuracy: 0.7761\n",
      "Epoch 3/5\n",
      "150/150 [==============================] - 1s 4ms/step - loss: 0.6946 - accuracy: 0.7875 - val_loss: 0.7025 - val_accuracy: 0.7875\n",
      "Epoch 4/5\n",
      "150/150 [==============================] - 1s 4ms/step - loss: 0.6549 - accuracy: 0.8006 - val_loss: 0.6948 - val_accuracy: 0.7915\n",
      "Epoch 5/5\n",
      "150/150 [==============================] - 1s 4ms/step - loss: 0.6510 - accuracy: 0.8011 - val_loss: 0.6863 - val_accuracy: 0.7947\n"
     ]
    }
   ],
   "source": [
    "model = create_model(opt=Adam(learning_rate=.1))\n",
    "bt_adam = model.fit(X_train_scaled, y_train, batch_size=500, validation_data=(X_test_scaled, y_test), epochs=5)"
   ]
  },
  {
   "cell_type": "code",
   "execution_count": 44,
   "metadata": {},
   "outputs": [
    {
     "name": "stdout",
     "output_type": "stream",
     "text": [
      "Epoch 1/5\n",
      "150/150 [==============================] - 1s 5ms/step - loss: 1.9414 - accuracy: 0.4480 - val_loss: 1.2815 - val_accuracy: 0.6634\n",
      "Epoch 2/5\n",
      "150/150 [==============================] - 1s 4ms/step - loss: 1.1959 - accuracy: 0.6803 - val_loss: 1.0494 - val_accuracy: 0.7019\n",
      "Epoch 3/5\n",
      "150/150 [==============================] - 1s 4ms/step - loss: 1.0172 - accuracy: 0.7116 - val_loss: 0.9613 - val_accuracy: 0.7235\n",
      "Epoch 4/5\n",
      "150/150 [==============================] - 1s 4ms/step - loss: 0.9528 - accuracy: 0.7256 - val_loss: 0.9195 - val_accuracy: 0.7310\n",
      "Epoch 5/5\n",
      "150/150 [==============================] - 1s 4ms/step - loss: 0.9033 - accuracy: 0.7373 - val_loss: 0.8908 - val_accuracy: 0.7409\n"
     ]
    }
   ],
   "source": [
    "model = create_model(opt=SGD(learning_rate=.1))\n",
    "bt_sgd = model.fit(X_train_scaled, y_train, batch_size=500, validation_data=(X_test_scaled, y_test), epochs=5)"
   ]
  },
  {
   "cell_type": "code",
   "execution_count": 47,
   "metadata": {},
   "outputs": [
    {
     "name": "stdout",
     "output_type": "stream",
     "text": [
      "Epoch 1/5\n",
      "150/150 [==============================] - 1s 5ms/step - loss: 1.6735 - accuracy: 0.4695 - val_loss: 0.9901 - val_accuracy: 0.7065\n",
      "Epoch 2/5\n",
      "150/150 [==============================] - 1s 4ms/step - loss: 0.9212 - accuracy: 0.7317 - val_loss: 0.8769 - val_accuracy: 0.7478\n",
      "Epoch 3/5\n",
      "150/150 [==============================] - 1s 4ms/step - loss: 0.8607 - accuracy: 0.7480 - val_loss: 0.8444 - val_accuracy: 0.7546\n",
      "Epoch 4/5\n",
      "150/150 [==============================] - 1s 4ms/step - loss: 0.8227 - accuracy: 0.7610 - val_loss: 0.8164 - val_accuracy: 0.7618\n",
      "Epoch 5/5\n",
      "150/150 [==============================] - 1s 4ms/step - loss: 0.7933 - accuracy: 0.7670 - val_loss: 0.7982 - val_accuracy: 0.7693\n"
     ]
    }
   ],
   "source": [
    "model = create_model(opt=Adagrad(learning_rate=.1))\n",
    "bt_adagrad = model.fit(X_train_scaled, y_train, batch_size=500, validation_data=(X_test_scaled, y_test), epochs=5)"
   ]
  },
  {
   "cell_type": "code",
   "execution_count": 48,
   "metadata": {},
   "outputs": [
    {
     "name": "stdout",
     "output_type": "stream",
     "text": [
      "Epoch 1/5\n",
      "150/150 [==============================] - 1s 5ms/step - loss: 2.9562 - accuracy: 0.4629 - val_loss: 0.7380 - val_accuracy: 0.7794\n",
      "Epoch 2/5\n",
      "150/150 [==============================] - 1s 4ms/step - loss: 0.6940 - accuracy: 0.7914 - val_loss: 0.6772 - val_accuracy: 0.8003\n",
      "Epoch 3/5\n",
      "150/150 [==============================] - 1s 4ms/step - loss: 0.6318 - accuracy: 0.8098 - val_loss: 0.6465 - val_accuracy: 0.8062\n",
      "Epoch 4/5\n",
      "150/150 [==============================] - 1s 4ms/step - loss: 0.5898 - accuracy: 0.8209 - val_loss: 0.6255 - val_accuracy: 0.8134\n",
      "Epoch 5/5\n",
      "150/150 [==============================] - 1s 5ms/step - loss: 0.5578 - accuracy: 0.8336 - val_loss: 0.6158 - val_accuracy: 0.8164\n"
     ]
    }
   ],
   "source": [
    "model = create_model(opt=Adamax(learning_rate=.1))\n",
    "bt_adamax = model.fit(X_train_scaled, y_train, batch_size=500, validation_data=(X_test_scaled, y_test), epochs=5)"
   ]
  },
  {
   "cell_type": "code",
   "execution_count": 49,
   "metadata": {},
   "outputs": [
    {
     "name": "stdout",
     "output_type": "stream",
     "text": [
      "Epoch 1/5\n",
      "150/150 [==============================] - 1s 6ms/step - loss: 1.8843 - accuracy: 0.5686 - val_loss: 0.7193 - val_accuracy: 0.7815\n",
      "Epoch 2/5\n",
      "150/150 [==============================] - 1s 5ms/step - loss: 0.7062 - accuracy: 0.7826 - val_loss: 0.8241 - val_accuracy: 0.7501\n",
      "Epoch 3/5\n",
      "150/150 [==============================] - 1s 5ms/step - loss: 0.6659 - accuracy: 0.7980 - val_loss: 0.6965 - val_accuracy: 0.7946\n",
      "Epoch 4/5\n",
      "150/150 [==============================] - 1s 5ms/step - loss: 0.6398 - accuracy: 0.8055 - val_loss: 0.6481 - val_accuracy: 0.8030\n",
      "Epoch 5/5\n",
      "150/150 [==============================] - 1s 5ms/step - loss: 0.6060 - accuracy: 0.8148 - val_loss: 0.6432 - val_accuracy: 0.8088\n"
     ]
    }
   ],
   "source": [
    "model = create_model(opt=Nadam(learning_rate=.1))\n",
    "bt_nadam = model.fit(X_train_scaled, y_train, batch_size=500, validation_data=(X_test_scaled, y_test), epochs=5)"
   ]
  },
  {
   "cell_type": "code",
   "execution_count": 50,
   "metadata": {
    "scrolled": true
   },
   "outputs": [
    {
     "data": {
      "text/html": [
       "<div>\n",
       "<style scoped>\n",
       "    .dataframe tbody tr th:only-of-type {\n",
       "        vertical-align: middle;\n",
       "    }\n",
       "\n",
       "    .dataframe tbody tr th {\n",
       "        vertical-align: top;\n",
       "    }\n",
       "\n",
       "    .dataframe thead th {\n",
       "        text-align: right;\n",
       "    }\n",
       "</style>\n",
       "<table border=\"1\" class=\"dataframe\">\n",
       "  <thead>\n",
       "    <tr style=\"text-align: right;\">\n",
       "      <th></th>\n",
       "      <th>loss</th>\n",
       "      <th>accuracy</th>\n",
       "      <th>val_loss</th>\n",
       "      <th>val_accuracy</th>\n",
       "      <th>epoch</th>\n",
       "      <th>Optimizer</th>\n",
       "    </tr>\n",
       "  </thead>\n",
       "  <tbody>\n",
       "    <tr>\n",
       "      <th>0</th>\n",
       "      <td>1.160920</td>\n",
       "      <td>0.685040</td>\n",
       "      <td>0.797398</td>\n",
       "      <td>0.76180</td>\n",
       "      <td>0</td>\n",
       "      <td>adam_</td>\n",
       "    </tr>\n",
       "    <tr>\n",
       "      <th>1</th>\n",
       "      <td>0.734603</td>\n",
       "      <td>0.774387</td>\n",
       "      <td>0.734147</td>\n",
       "      <td>0.77612</td>\n",
       "      <td>1</td>\n",
       "      <td>adam_</td>\n",
       "    </tr>\n",
       "    <tr>\n",
       "      <th>2</th>\n",
       "      <td>0.698240</td>\n",
       "      <td>0.788307</td>\n",
       "      <td>0.702479</td>\n",
       "      <td>0.78748</td>\n",
       "      <td>2</td>\n",
       "      <td>adam_</td>\n",
       "    </tr>\n",
       "    <tr>\n",
       "      <th>3</th>\n",
       "      <td>0.669326</td>\n",
       "      <td>0.796387</td>\n",
       "      <td>0.694755</td>\n",
       "      <td>0.79152</td>\n",
       "      <td>3</td>\n",
       "      <td>adam_</td>\n",
       "    </tr>\n",
       "    <tr>\n",
       "      <th>4</th>\n",
       "      <td>0.671284</td>\n",
       "      <td>0.795013</td>\n",
       "      <td>0.686305</td>\n",
       "      <td>0.79468</td>\n",
       "      <td>4</td>\n",
       "      <td>adam_</td>\n",
       "    </tr>\n",
       "  </tbody>\n",
       "</table>\n",
       "</div>"
      ],
      "text/plain": [
       "       loss  accuracy  val_loss  val_accuracy  epoch Optimizer\n",
       "0  1.160920  0.685040  0.797398       0.76180      0     adam_\n",
       "1  0.734603  0.774387  0.734147       0.77612      1     adam_\n",
       "2  0.698240  0.788307  0.702479       0.78748      2     adam_\n",
       "3  0.669326  0.796387  0.694755       0.79152      3     adam_\n",
       "4  0.671284  0.795013  0.686305       0.79468      4     adam_"
      ]
     },
     "execution_count": 50,
     "metadata": {},
     "output_type": "execute_result"
    }
   ],
   "source": [
    "optimizer = []\n",
    "\n",
    "for exp, result in zip([bt_adam, bt_sgd, bt_adagrad, bt_adamax, bt_nadam], [\"adam_\", \".sgd_\", \"adagrad_\", \"adamax_\", \"nadam_\"]):\n",
    "\n",
    "    df = pd.DataFrame.from_dict(exp.history)\n",
    "    df['epoch'] = df.index.values\n",
    "    df['Optimizer'] = result\n",
    "\n",
    "    optimizer.append(df)\n",
    "\n",
    "df = pd.concat(optimizer)\n",
    "df['Optimizer'] = df['Optimizer'].astype('str')\n",
    "df.head()"
   ]
  },
  {
   "cell_type": "code",
   "execution_count": 51,
   "metadata": {},
   "outputs": [
    {
     "data": {
      "image/png": "[encoded data removed]",
      "text/plain": [
       "<Figure size 1152x432 with 1 Axes>"
      ]
     },
     "metadata": {
      "needs_background": "light"
     },
     "output_type": "display_data"
    }
   ],
   "source": [
    "plt.figure(figsize=(16,6))\n",
    "plt.grid()\n",
    "sns.lineplot(x='epoch', y='val_accuracy', hue='Optimizer', data=df);"
   ]
  },
  {
   "cell_type": "markdown",
   "metadata": {},
   "source": [
    "All the adam optimization function seems to have higher val acc"
   ]
  },
  {
   "cell_type": "markdown",
   "metadata": {
    "colab_type": "text",
    "id": "FwlRJSfBlCvy"
   },
   "source": [
    "------\n",
    "\n",
    "## Stretch Goals: \n",
    "\n",
    "- On the learning rate experiments, implement [EarlyStopping](https://keras.io/api/callbacks/early_stopping/)\n",
    "- Review the math of Gradient Descent. "
   ]
  }
 ],
 "metadata": {
  "colab": {
   "collapsed_sections": [],
   "name": "LS_DS_432_Train_Assignment.ipynb",
   "provenance": []
  },
  "kernelspec": {
   "display_name": "Python 3",
   "language": "python",
   "name": "python3"
  },
  "language_info": {
   "codemirror_mode": {
    "name": "ipython",
    "version": 3
   },
   "file_extension": ".py",
   "mimetype": "text/x-python",
   "name": "python",
   "nbconvert_exporter": "python",
   "pygments_lexer": "ipython3",
   "version": "3.8.5"
  },
  "nteract": {
   "version": "0.22.4"
  }
 },
 "nbformat": 4,
 "nbformat_minor": 4
}
