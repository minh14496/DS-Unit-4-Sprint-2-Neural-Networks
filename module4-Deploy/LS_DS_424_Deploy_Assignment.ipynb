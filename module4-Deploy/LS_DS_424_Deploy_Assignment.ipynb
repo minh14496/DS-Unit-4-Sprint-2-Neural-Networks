{
 "cells": [
  {
   "cell_type": "markdown",
   "metadata": {
    "colab_type": "text",
    "id": "NGGrt9EYlCqY"
   },
   "source": [
    "\n",
    "\n",
    "\n",
    "# *Data Science Unit 4 Sprint 2 Assignment 4*\n",
    "\n",
    "Continue to use TensorFlow Keras & a sample of the [Quickdraw dataset](https://github.com/googlecreativelab/quickdraw-dataset) to build a sketch classification model. The dataset has been sampled to only 10 classes and 10000 observations per class. Apply regularization techniques to your model. \n",
    "\n",
    "**Don't forgot to switch to GPU on Colab!**\n",
    "\n",
    "\n",
    "## Objective \n",
    "\n",
    "In lecture, you were exposed to Lp space reguarlization, Max Norn weight constraints, and dropout. \n",
    "\n",
    "In this assignment, you will run several experiments in order to perform a deeper analysis on the effects that various regularization techniques have model performance and on the learned model weights. \n",
    "\n",
    "By the end of this assignment, these regularization techniques should no longer feel like black boxes to you (i.e. completely mysterious as to how they work.) \n"
   ]
  },
  {
   "cell_type": "markdown",
   "metadata": {
    "colab_type": "text",
    "id": "ptJ2b3wk62Ud"
   },
   "source": [
    "#### Import libraries"
   ]
  },
  {
   "cell_type": "code",
   "execution_count": 122,
   "metadata": {
    "colab": {},
    "colab_type": "code",
    "id": "USXjs7Hk71Hy"
   },
   "outputs": [],
   "source": [
    "# native libraries \n",
    "import os\n",
    "from time import time \n",
    "\n",
    "# data analysis libraries \n",
    "import numpy as np\n",
    "import pandas as pd\n",
    "import matplotlib.pyplot as plt\n",
    "import seaborn as sns\n",
    "\n",
    "# deep learning libraries \n",
    "from keras import Sequential\n",
    "from keras.callbacks import EarlyStopping, TensorBoard\n",
    "from keras.layers import Flatten, Dense, Dropout\n",
    "from keras.layers import ReLU\n",
    "from keras.initializers import GlorotUniform\n",
    "\n",
    "import tensorflow as tf\n",
    "from tensorflow.keras.datasets import fashion_mnist\n",
    "\n",
    "# regularizers \n",
    "from keras.regularizers import l2, l1\n",
    "from keras.constraints import MaxNorm\n",
    "\n",
    "# required for compatibility between sklearn and keras\n",
    "from tensorflow.keras.wrappers.scikit_learn import KerasClassifier\n",
    "\n",
    "from sklearn.model_selection import GridSearchCV\n",
    "\n",
    "# native python unit test library\n",
    "from unittest import TestCase\n",
    "\n",
    "%matplotlib inline"
   ]
  },
  {
   "cell_type": "markdown",
   "metadata": {},
   "source": [
    "-----\n",
    "\n",
    "# $L_p$ Space Regularization \n",
    "\n",
    "## Bridging Theory and Practice \n",
    "\n",
    "Because the idea of infinitely many vector spaces, each with their very own distance metric for measuring distance differently can seem very abstract, we are going to take that distance metric general formula and look at a few special cases by writing custom regularization functions and taking note of their effect a the model's learning outcomes. \n",
    "\n",
    "Don't forget to review the theory of $L_p$ Space Regularization in the guided project. \n",
    "\n",
    "Also, watch this video if you haven't already. "
   ]
  },
  {
   "cell_type": "code",
   "execution_count": 123,
   "metadata": {},
   "outputs": [
    {
     "data": {
      "image/jpeg": "[encoded data removed]",
      "text/html": [
       "\n",
       "        <iframe\n",
       "            width=\"800\"\n",
       "            height=\"300\"\n",
       "            src=\"https://www.youtube.com/embed/FiSy6zWDfiA\"\n",
       "            frameborder=\"0\"\n",
       "            allowfullscreen\n",
       "        ></iframe>\n",
       "        "
      ],
      "text/plain": [
       "<IPython.lib.display.YouTubeVideo at 0x7f2a70963af0>"
      ]
     },
     "execution_count": 123,
     "metadata": {},
     "output_type": "execute_result"
    }
   ],
   "source": [
    "# check out this video for an animated explaination of Lp Space and distance metrics \n",
    "from IPython.display import YouTubeVideo\n",
    "YouTubeVideo('FiSy6zWDfiA', width=800, height=300)"
   ]
  },
  {
   "cell_type": "markdown",
   "metadata": {},
   "source": [
    "### Distance Metric General Formula\n",
    "$${\\displaystyle \\left\\|x\\right\\|_{p}=\\left(|x_{1}|^{p}+|x_{2}|^{p}+\\dotsb +|x_{n}|^{p}\\right)^{1/p}.}$$\n",
    "\n",
    "Let's create a class for the distance metric general formula.\n",
    "\n",
    "\n",
    "There are 2 classes below: \n",
    "\n",
    "```python\n",
    "class Test_distance_metric_solution()\n",
    "```\n",
    "\n",
    "You don't need to change anything in this class. This class is here in order to make sure that you calculate each portion of the distance metric general formula correctly. \n",
    "\n",
    "\n",
    "```python\n",
    "class Lp_distance_metric_general_formula()\n",
    "```\n",
    "\n",
    "This is the class that you will complete. \n",
    "\n",
    "Each of the non `__call__` methods calculate one portion of the distance metric general formula. \n",
    "\n",
    "Breaking up each portion of the formula into a separate method is actually unnecessary. \n",
    "\n",
    "Including the entire calculation of the general formula into a single method is ideal, however it is more difficult to write granular unit tests that way. \n",
    "\n",
    "So, for instructional purposes, it was broken up into 3 methods. However, outside of an academic environment, we would only need the `__init__` and `__call__` methods. \n",
    "\n",
    "Having said that, it is good for you to see how a custom unit test class is used to test the calculations of another class. This is a portion of what software engineering looks like. Get used to it. You'll need good software engineering practices to make it in the world. You'll learn more about this in your CS unit. For now, consider it a bit of foreshadowing. "
   ]
  },
  {
   "cell_type": "code",
   "execution_count": 124,
   "metadata": {},
   "outputs": [],
   "source": [
    "class Test_distance_metric_solution(TestCase):\n",
    "    \"\"\"\n",
    "    This is a unit test class desgined to make sure that the student calcualtes each component \n",
    "    of the Distance Metric General Formula correctly. Thereby getting real-time feedback and correction. \n",
    "    \"\"\"\n",
    "    \n",
    "    def test_squared_vector_comps(self, test_array):\n",
    "        \"\"\"\n",
    "        This test makes sure that student calculate the sum_of_squared_comp correctly. \n",
    "        \"\"\"\n",
    "        answer = np.array([1., 4.])\n",
    "        # error message in case if test case got failed\n",
    "        message = \"you did not calcualte sum_of_squared_comp correctly\"\n",
    "        # assert function() to check if values are almost equal\n",
    "        np.testing.assert_array_equal(answer, test_array,  err_msg=message)\n",
    "        \n",
    "        \n",
    "    def test_sum_of_squared_comp(self, test_sum):\n",
    "        \"\"\"\n",
    "        This test makes sure that student calculate the sum_of_squared_comp correctly. \n",
    "        \"\"\"\n",
    "        answer = 5\n",
    "        # error message in case if test case got failed\n",
    "        message = \"you did not calcualte sum_of_squared_comp correctly\"\n",
    "        # assert function() to check if values are almost equal\n",
    "        np.testing.assert_array_equal(answer, test_sum,  err_msg=message)\n",
    "        \n",
    "    def test_vector_norm(self, test_norm):\n",
    "        \"\"\"\n",
    "        This test makes sure that student calculate the vector_norm correctly. \n",
    "        \"\"\"\n",
    "        answer = 2.236\n",
    "        decimalPlace = 3\n",
    "        # error message in case if test case got failed\n",
    "        message = \"you did not calcualte sum_of_squared_comp correctly\"\n",
    "        # assert function() to check if values are almost equal\n",
    "        self.assertAlmostEqual(answer, test_norm,  decimalPlace, message)        "
   ]
  },
  {
   "cell_type": "markdown",
   "metadata": {},
   "source": [
    "### Fill in the missing code in the class below"
   ]
  },
  {
   "cell_type": "code",
   "execution_count": 125,
   "metadata": {
    "deletable": false,
    "nbgrader": {
     "cell_type": "code",
     "checksum": "b8830110178a58a6fe1973906f649d36",
     "grade": false,
     "grade_id": "cell-0bd59a2d10fbf254",
     "locked": false,
     "schema_version": 3,
     "solution": true,
     "task": false
    }
   },
   "outputs": [],
   "source": [
    "class Lp_distance_metric_general_formula(object):\n",
    "    \"\"\"\n",
    "    This class takes the Lp distance metric general formula and sets p equal to a value provided by the user. \n",
    "    This has the effect of deriving a distance metric for a specific metric space and calcualting the distance \n",
    "    of a vector in that metric space.\n",
    "    \n",
    "    Example\n",
    "    -------\n",
    "    If the user sets p = 2, then the euclidean distance formula is derived.\n",
    "    If the user sets p = 1, then the taxicab distance formula is derived. \n",
    "    \n",
    "    Note\n",
    "    ----\n",
    "    It is possible to use p values less than 1 but those are special cases that we will ignore. \n",
    "    These special values are interesting for academic purposes but in practice you very likely won't need to know \n",
    "    about them.\n",
    "    \"\"\"\n",
    "\n",
    "    def __init__(self, p=2, reg_strength = 1.0):\n",
    "        \"\"\"\n",
    "        Parameters\n",
    "        ----------\n",
    "        \n",
    "        p: int or float\n",
    "            p value used for calculating the distance of a vector in a certain metric space\n",
    "            \n",
    "        reg_strength: int or float\n",
    "            usually set to a value less than 1.0 to decrease the strength of the distance metric when used as a model regularizer\n",
    "            keep this value at 1.0 when measureing vector norms (i.e. vector lengths)\n",
    "        \"\"\"\n",
    "        \n",
    "        assert p >=1 , \"p value must be greater than or equal to 1\"\n",
    "        \n",
    "        self.p = p\n",
    "        self.reg_strength = reg_strength\n",
    "                \n",
    "    def calc_squared_vector_comps(self):\n",
    "    \n",
    "        # raise each vector component in self.x to the power of p\n",
    "        # save result to self.squared_vector_comps\n",
    "        # YOUR CODE HERE\n",
    "        self.squared_vector_comps = self.x**self.p\n",
    "        \n",
    "    def calc_sum_of_squared_comp(self):\n",
    "        # take the sum of the squared components in self.squared_vector_comps\n",
    "        # save to self.sum_of_squared_comp\n",
    "        # hint: use tf.reduce_sum\n",
    "        # YOUR CODE HERE\n",
    "        self.sum_of_squared_comp = tf.reduce_sum(self.squared_vector_comps)\n",
    "        \n",
    "    def calc_vector_norm(self):\n",
    "        \n",
    "        # take the 1/p root of the self.sum_of_squared_comp in order to calculate the norm, i.e. ||x||\n",
    "        # save result to self.vector_norm\n",
    "        # YOUR CODE HERE\n",
    "        self.vector_norm = self.sum_of_squared_comp ** (1/self.p)\n",
    "        \n",
    "        \n",
    "    def __call__(self, x):\n",
    "        \"\"\"\n",
    "        This method calculates the distance (i.e. norm) for vector x in Lp space for a value p given by the use\n",
    "        \n",
    "        ‖𝑥‖𝑝 = (|𝑥_1|^𝑝 + |𝑥_2|^𝑝 + ⋯ +|𝑥_𝑛|^𝑝 )^1/𝑝\n",
    "        \n",
    "        Parameters\n",
    "        ----------\n",
    "        x: N-dimsional numpy array or tensorflow tensor of floats \n",
    "            x is our vector, could be a weight vector but any vector is valid \n",
    "            \n",
    "            \n",
    "        HINT\n",
    "        -----\n",
    "        You must use self.p when calculating squared_vector_comps and vector_norm\n",
    "        \"\"\"\n",
    "        \n",
    "        self.x = x\n",
    "        \n",
    "        # calculate these parts |𝑥_i|^𝑝\n",
    "        self.calc_squared_vector_comps()\n",
    "        \n",
    "        # calcualte this |𝑥_1|^𝑝 + |𝑥_2|^𝑝 + ⋯ +|𝑥_𝑛|^𝑝\n",
    "        self.calc_sum_of_squared_comp()\n",
    "        \n",
    "        # calculate this (|𝑥_1|^𝑝 + |𝑥_2|^𝑝 + ⋯ +|𝑥_𝑛|^𝑝 )^1/𝑝\n",
    "        self.calc_vector_norm()\n",
    "        \n",
    "        # return the vector norm scaled by a regularization penality\n",
    "        # we say penality because the value is usually less than 1.0 thereby scaling down the norm\n",
    "        return self.reg_strength * self.vector_norm"
   ]
  },
  {
   "cell_type": "markdown",
   "metadata": {},
   "source": [
    "------\n",
    "### Unit Test your code\n",
    "\n",
    "You know you wrote your class correctly when all the unit tests pass. \n",
    "\n",
    "So the code in the following cell should run without throwing a single error. \n",
    "\n",
    "Protip: you can comment out 2nd and 3rd unit test in order to test your results for the first method and then uncomment as you go. Feel free to create a new cell and run your own testing there. "
   ]
  },
  {
   "cell_type": "code",
   "execution_count": 126,
   "metadata": {},
   "outputs": [],
   "source": [
    "# instantiate the unit test class that will check the calculates of Lp_distance_metric_general_formula's methods\n",
    "tests = Test_distance_metric_solution()\n",
    "\n",
    "# instantiate Lp_distance_metric_general_formula, set p = 2 in order to derive the euclidean distance metric\n",
    "lp = Lp_distance_metric_general_formula( p=2, reg_strength = 1.0)\n",
    "\n",
    "# don't change this test_vector\n",
    "# Test_distance_metric_solution assumes that you're using ths exact test_vector\n",
    "test_vector = np.array([1., 2.])\n",
    "lp(test_vector)\n",
    "\n",
    "# test the calculations that are perform in each of the following lp class methods \n",
    "tests.test_squared_vector_comps(lp.squared_vector_comps)\n",
    "tests.test_sum_of_squared_comp(lp.sum_of_squared_comp)\n",
    "tests.test_vector_norm(lp.vector_norm.numpy())"
   ]
  },
  {
   "cell_type": "code",
   "execution_count": 127,
   "metadata": {},
   "outputs": [
    {
     "name": "stdout",
     "output_type": "stream",
     "text": [
      "tf.Tensor(2.23606797749979, shape=(), dtype=float64)\n"
     ]
    }
   ],
   "source": [
    "# note: because we use tf.reduce_sum to calculate sum_of_squared_comp\n",
    "# the result is inside of a tensor and we need to use .numpy() to get the scalar out of the tensor \n",
    "print (lp.vector_norm)"
   ]
  },
  {
   "cell_type": "code",
   "execution_count": 128,
   "metadata": {},
   "outputs": [
    {
     "name": "stdout",
     "output_type": "stream",
     "text": [
      "2.23606797749979\n"
     ]
    }
   ],
   "source": [
    "print (lp.vector_norm.numpy())"
   ]
  },
  {
   "cell_type": "markdown",
   "metadata": {},
   "source": [
    "----"
   ]
  },
  {
   "cell_type": "markdown",
   "metadata": {},
   "source": [
    "### Apply our $L_p$ Space Class\n",
    "\n",
    "Next we will use our distance metric class in order to calculate the euclidean and taxicab distance of our vector below. "
   ]
  },
  {
   "cell_type": "code",
   "execution_count": 129,
   "metadata": {},
   "outputs": [
    {
     "data": {
      "image/png": "[encoded data removed]",
      "text/plain": [
       "<Figure size 720x432 with 1 Axes>"
      ]
     },
     "metadata": {
      "needs_background": "light"
     },
     "output_type": "display_data"
    }
   ],
   "source": [
    "# W is a 2D vector with an x and y component, i.e. (x, y) = (4,3)\n",
    "w = np.array([4., 3.])\n",
    "\n",
    "# origin point - we need to specify the starting point for plotting\n",
    "origin = np.array([0,0])\n",
    "\n",
    "plt.figure(figsize=(10, 6))\n",
    "ax = plt.axes()\n",
    "\n",
    "ax.arrow(origin[0], origin[1], w[0], w[1], head_width=0.5, head_length=0.7, fc='lightblue', ec='black')\n",
    "\n",
    "plt.grid()\n",
    "plt.yticks(np.arange(0,5))\n",
    "plt.xticks(np.arange(0,6));"
   ]
  },
  {
   "cell_type": "markdown",
   "metadata": {},
   "source": [
    "## Derive Euclidean Distance from the General Formula \n",
    "\n",
    "This is the general formula for distance metrics. Where we have an N-dimensional weight vector **w**. Notice that the general formula has a vector component for each of the N dimensions. Hence, it is the general formula.\n",
    "\n",
    "$${\\displaystyle \\left\\|\\textbf{w}\\right\\|_{p}=\\left(|w_{1}|^{p}+|w_{2}|^{p}+\\dotsb +|w_{n}|^{p}\\right)^{1/p}.}$$\n",
    " \n",
    "\n",
    "Let N = 2 such that our weight vector now exists in 2 dimensional space. \n",
    "\n",
    "Let p = 2 such that our weight vector's distance will be calculated in $L_{p=2}$ space \n",
    "\n",
    "In which case our general formula gets reduced from N-dimensions to 2-dimensions. So now we only need to consider a distance formula for a vector with 2 components, one for each dimension.\n",
    "\n",
    "$$||\\textbf{w}||_{p=2} = ((x_2 - x_1)^2 + (y_2 - y_1)^2)^{1/2}$$\n",
    "\n",
    "Now just re-express the square root and we arrive at the familiar Euclidean Distance from high school algebra. \n",
    "\n",
    "$$||\\textbf{w}||_{p=2} = \\sqrt{(x_2 - x_1)^2 + (y_2 - y_1)^2}$$\n",
    "\n",
    "\n",
    "You might be wondering about why the general case doesn't have differences for the components but the Euclidean Distance does explicitly show the component wise differences. It is common in mathematics to suppress certain information, especially if that information is \"obvious\" - however what is obvious is highly relative. \n",
    "\n",
    "The general formula assumes that the vector starts at the origin, in which case, there's no need to show the subtraction of zero from a vector component. \n",
    "\n",
    "Assuming that our vector starts at the origin (and it does) the formula can be reduced to \n",
    "\n",
    "$$||\\textbf{w}||_{p=2} = \\sqrt{(x_2 - 0)^2 + (y_2 - 0)^2}$$\n",
    "\n",
    "$$||\\textbf{w}||_{p=2} = \\sqrt{x_2^2 + y_2^2}$$"
   ]
  },
  {
   "cell_type": "markdown",
   "metadata": {},
   "source": [
    "### Euclidean distance of our Vector \n",
    "\n",
    "With **p=2** in our `Lp_distance_metric_general_formula` class, we can calculate the euclidean distance of our vector **w**. I encourage you to either solve the euclidean distance of our vector either in your head or on paper to prove to yourself that the above formula that we derived works and gives you `5` as an answer. "
   ]
  },
  {
   "cell_type": "code",
   "execution_count": 130,
   "metadata": {
    "deletable": false,
    "nbgrader": {
     "cell_type": "code",
     "checksum": "bf0cdea85e37c69f73956bf851cba8d6",
     "grade": false,
     "grade_id": "cell-74dae14f4bbad1ab",
     "locked": false,
     "schema_version": 3,
     "solution": true,
     "task": false
    }
   },
   "outputs": [
    {
     "data": {
      "text/plain": [
       "5.0"
      ]
     },
     "execution_count": 130,
     "metadata": {},
     "output_type": "execute_result"
    }
   ],
   "source": [
    "# YOUR CODE HERE\n",
    "a = Lp_distance_metric_general_formula()\n",
    "a.__call__(w).numpy()"
   ]
  },
  {
   "cell_type": "markdown",
   "metadata": {},
   "source": [
    "-----\n",
    "\n",
    "## Derive Taxicab Distance from the General Formula \n",
    "\n",
    "This is the general formula for distance metrics. Where we have an N-dimensional weight vector **w**. Notice that the general formula has a vector component for each of the N dimensions. Hence, it is the general formula.\n",
    "\n",
    "$${\\displaystyle \\left\\|\\textbf{w}\\right\\|_{p}=\\left(|w_{1}|^{p}+|w_{2}|^{p}+\\dotsb +|w_{n}|^{p}\\right)^{1/p}.}$$\n",
    " \n",
    "\n",
    "Let N = 2 such that our weight vector now exists in 2 dimensional space. \n",
    "\n",
    "Let p = 1 such that our weight vector's distance will be calculated in $L_{p=1}$ space \n",
    "\n",
    "\n",
    "In which case our general formula gets reduced from N-dimensions to 2-dimensions. So now we only need to consider a distance formula for a vector with 2 components, one for each dimension.\n",
    "\n",
    "$$||\\textbf{w}||_{p=1} = ((x_2 - x_1)^1 + (y_2 - y_1)^1)^{1/1}$$\n",
    "\n",
    "There's no need to express all those 1's\n",
    "\n",
    "$$||\\textbf{w}||_{p=1} = (x_2 - x_1) + (y_2 - y_1) $$\n",
    "\n",
    "Assuming that our vector starts at the origin (which it does)\n",
    "\n",
    "$$||\\textbf{w}||_{p=1} = (x_2 - 0) + (y_2 - 0) $$\n",
    "\n",
    "\n",
    "\n",
    "$$||\\textbf{w}||_{p=1} = x + y $$\n",
    "\n",
    "We have just derived the Taxicab distance metric from the general formula. The above equation tells us to add up all the steps in the x and y direction in order to calculate the Taxicab distance."
   ]
  },
  {
   "cell_type": "markdown",
   "metadata": {},
   "source": [
    "### Taxicab distance of our Vector \n",
    "\n",
    "With **p=1** in our `Lp_distance_metric_general_formula` class, we can calculate the taxicab distance of our vector **w**. This distance we can easily calculate in our head. Look at the plot of the vector and simply add up all the x and y components, i.e. count up all the steps you have to take in order to \"walk\" from the origin to the head of the vector. Do this to prove to yourself that the taxicab distance of our vector is `7`. "
   ]
  },
  {
   "cell_type": "code",
   "execution_count": 131,
   "metadata": {
    "deletable": false,
    "nbgrader": {
     "cell_type": "code",
     "checksum": "9a527c635255f30979d1759e4ecc480d",
     "grade": false,
     "grade_id": "cell-9bf41d7142ad35e9",
     "locked": false,
     "schema_version": 3,
     "solution": true,
     "task": false
    }
   },
   "outputs": [
    {
     "data": {
      "text/plain": [
       "7.0"
      ]
     },
     "execution_count": 131,
     "metadata": {},
     "output_type": "execute_result"
    }
   ],
   "source": [
    "# use Lp_distance_metric_general_formula class to calculate the taxicab distance of w\n",
    "\n",
    "\n",
    "# YOUR CODE HERE\n",
    "a = Lp_distance_metric_general_formula(1)\n",
    "a.__call__(w).numpy()"
   ]
  },
  {
   "cell_type": "markdown",
   "metadata": {},
   "source": [
    "### Elastic Net Distance \n",
    "\n",
    "\n",
    "Elastic Net is a combination of L1 and L2. Compare the geometry below. \n",
    "\n",
    "![](https://ds100.org/sp17/assets/notebooks/linear_regression/norm_balls.png)\n",
    "\n",
    "The mathematical derivation of the distance metric for  $L_{p=3/2}$ space will be left to you as an optional exercise. "
   ]
  },
  {
   "cell_type": "code",
   "execution_count": 132,
   "metadata": {
    "deletable": false,
    "nbgrader": {
     "cell_type": "code",
     "checksum": "0f19be155b2e5be75c855710eab34cdd",
     "grade": false,
     "grade_id": "cell-d657c845dbb1ab23",
     "locked": false,
     "schema_version": 3,
     "solution": true,
     "task": false
    }
   },
   "outputs": [
    {
     "data": {
      "text/plain": [
       "5.584250376480029"
      ]
     },
     "execution_count": 132,
     "metadata": {},
     "output_type": "execute_result"
    }
   ],
   "source": [
    "# use Lp_distance_metric_general_formula class to calculate the Elastic Net distance of w\n",
    "\n",
    "# YOUR CODE HERE\n",
    "a = Lp_distance_metric_general_formula(1.5)\n",
    "a.__call__(w).numpy()"
   ]
  },
  {
   "cell_type": "markdown",
   "metadata": {},
   "source": [
    "-----\n",
    "\n",
    "## Use Custom Lp Space class in modeling\n",
    "\n",
    "Let's create a function that returns complied keras models so that we can run an experiment in order to compare the modeling results from using a keras L2 and our custom L2 regularizer. "
   ]
  },
  {
   "cell_type": "markdown",
   "metadata": {},
   "source": [
    "-----\n",
    "### Load Data"
   ]
  },
  {
   "cell_type": "code",
   "execution_count": 133,
   "metadata": {},
   "outputs": [],
   "source": [
    "def load_data():\n",
    "    \"\"\"\n",
    "    Load in and normalize image data set\n",
    "    \"\"\"\n",
    "    \n",
    "    # load in our dataset \n",
    "    (X_train, y_train), (X_test, y_test) = fashion_mnist.load_data()\n",
    "\n",
    "    # normalize pixel values between 0 and 1 \n",
    "    max_pixel_value = X_train.max()\n",
    "    X_train, X_test = X_train /max_pixel_value , X_test / max_pixel_value\n",
    "    \n",
    "    return X_train, y_train, X_test, y_test"
   ]
  },
  {
   "cell_type": "code",
   "execution_count": 134,
   "metadata": {},
   "outputs": [],
   "source": [
    "X_train, y_train, X_test, y_test = load_data()"
   ]
  },
  {
   "cell_type": "code",
   "execution_count": 135,
   "metadata": {},
   "outputs": [
    {
     "data": {
      "text/plain": [
       "10"
      ]
     },
     "execution_count": 135,
     "metadata": {},
     "output_type": "execute_result"
    }
   ],
   "source": [
    "# this is equal to the number of nodes in the output layer\n",
    "N_labels = len(np.unique(y_train))\n",
    "N_labels"
   ]
  },
  {
   "cell_type": "code",
   "execution_count": 136,
   "metadata": {},
   "outputs": [],
   "source": [
    "def create_model(reg=None):\n",
    "    # instantiate Sequential class\n",
    "    model = Sequential([\n",
    "\n",
    "    # flatten images \n",
    "        Flatten(input_shape=(28,28)), # images will be flattend out to 784 dims row vectors \n",
    "\n",
    "    # hidden layer 1\n",
    "        Dense(500, kernel_regularizer=reg),\n",
    "\n",
    "    # act func 1\n",
    "        ReLU(negative_slope=0.01),\n",
    "\n",
    "    # output layer \n",
    "        Dense(10, activation =\"softmax\")   \n",
    "    ])\n",
    "\n",
    "    # compile model \n",
    "    model.compile(loss=\"sparse_categorical_crossentropy\", \n",
    "                  optimizer= \"adam\", \n",
    "                  metrics=[\"accuracy\"])\n",
    "    \n",
    "    return model"
   ]
  },
  {
   "cell_type": "markdown",
   "metadata": {},
   "source": [
    "----\n",
    "\n",
    "## Experiment 1: Calculate vector lengths using Keras and Custom Regularizer"
   ]
  },
  {
   "cell_type": "markdown",
   "metadata": {},
   "source": [
    "\n",
    "\n",
    "If you read the [**Keras Documentation**](https://keras.io/api/layers/regularizers/) for their implementation of L2 regularization you'll see this:\n",
    "\n",
    "    The L2 regularization penalty is computed as: loss = l2 * reduce_sum(square(x))\n",
    "    \n",
    "Notice that Keras isn't taking the square root for L2 where as we are take the square root. \n",
    "\n",
    "Why isn't Keras taking the square root? I don't know but we will stay true to the math and take the square root for our implementation of L2 regularization. \n",
    "\n"
   ]
  },
  {
   "cell_type": "code",
   "execution_count": 137,
   "metadata": {},
   "outputs": [
    {
     "data": {
      "text/plain": [
       "5.0"
      ]
     },
     "execution_count": 137,
     "metadata": {},
     "output_type": "execute_result"
    }
   ],
   "source": [
    "custom_l2 = Lp_distance_metric_general_formula(p=2, reg_strength = 1.0)\n",
    "# the length of the W vector from above as calcualted by the formula that we derived \n",
    "custom_l2(w).numpy()"
   ]
  },
  {
   "cell_type": "code",
   "execution_count": 138,
   "metadata": {},
   "outputs": [
    {
     "data": {
      "text/plain": [
       "25.0"
      ]
     },
     "execution_count": 138,
     "metadata": {},
     "output_type": "execute_result"
    }
   ],
   "source": [
    "from keras.regularizers import L2\n",
    "keras_l2 = L2(l2=1.0)\n",
    "# again Keras doesn't take the square root\n",
    "keras_l2(w).numpy()"
   ]
  },
  {
   "cell_type": "code",
   "execution_count": 139,
   "metadata": {},
   "outputs": [
    {
     "data": {
      "text/plain": [
       "5.0"
      ]
     },
     "execution_count": 139,
     "metadata": {},
     "output_type": "execute_result"
    }
   ],
   "source": [
    "# but if we take the square root, then we get the same answer that our custom regularizer class gives us \n",
    "np.sqrt(keras_l2(w).numpy())"
   ]
  },
  {
   "cell_type": "markdown",
   "metadata": {},
   "source": [
    "----\n",
    "## Experiment 2: Compare Keras L2 and Custom L2 regularization in a model\n",
    "\n",
    "\n",
    "### Use Keras Built-in L2 regularizer \n",
    "\n",
    "Make sure to use the same regularization strength in the Keras pre-built L2 regularizer and in our custom L2 regularizer."
   ]
  },
  {
   "cell_type": "code",
   "execution_count": 140,
   "metadata": {},
   "outputs": [
    {
     "name": "stdout",
     "output_type": "stream",
     "text": [
      "1875/1875 [==============================] - 6s 3ms/step - loss: 1.6725 - accuracy: 0.7577 - val_loss: 0.7656 - val_accuracy: 0.7654\n"
     ]
    }
   ],
   "source": [
    "model_keras_l2 = create_model(reg=L2(l2=0.01))\n",
    "keras_l2_results = model_keras_l2.fit(X_train, y_train,\n",
    "                                      epochs=1,\n",
    "                                      validation_data=(X_test, y_test), \n",
    "                                      workers=10) # check! You might not be able to use 10 processors on your machine "
   ]
  },
  {
   "cell_type": "markdown",
   "metadata": {},
   "source": [
    "### Use Custom Regularization Class \n",
    "\n",
    "Make sure to use the same regularization strength in the Keras pre-built L2 regularizer and in our custom L2 regularizer."
   ]
  },
  {
   "cell_type": "code",
   "execution_count": 141,
   "metadata": {},
   "outputs": [],
   "source": [
    "# set p= 2 so that we are using the same L2 regularizer as above\n",
    "lp = Lp_distance_metric_general_formula(p=2, reg_strength = 0.01)"
   ]
  },
  {
   "cell_type": "code",
   "execution_count": 142,
   "metadata": {},
   "outputs": [
    {
     "name": "stdout",
     "output_type": "stream",
     "text": [
      "1875/1875 [==============================] - 5s 3ms/step - loss: 0.8146 - accuracy: 0.7913 - val_loss: 0.6396 - val_accuracy: 0.8367\n"
     ]
    }
   ],
   "source": [
    "model_custom_l2 = create_model(reg=lp)\n",
    "custom_l2_results = model_custom_l2.fit(X_train, y_train,\n",
    "                                      epochs=1,\n",
    "                                      validation_data=(X_test, y_test), \n",
    "                                      workers=10) # check! You might not be able to use 10 processors on your machine "
   ]
  },
  {
   "cell_type": "markdown",
   "metadata": {},
   "source": [
    "----\n",
    "### Compare Model Results\n",
    "\n",
    "Let's compare the modeling results between the two models. \n",
    "\n",
    "Whatever the specific test accuracies are, it should be the case that using our custom class leads to slightly better results than using the Keras version of $L_2$ regularization.\n",
    "\n",
    "There a small difference between test accuracies, possible due to the random sampling for the initial weight values. But also possibly from the observation that we made above - Keras isn't taking the square root. "
   ]
  },
  {
   "cell_type": "code",
   "execution_count": 143,
   "metadata": {},
   "outputs": [
    {
     "name": "stdout",
     "output_type": "stream",
     "text": [
      "313/313 [==============================] - 0s 1ms/step - loss: 0.7656 - accuracy: 0.7654\n"
     ]
    }
   ],
   "source": [
    "_, keras_acc = model_keras_l2.evaluate(X_test, y_test)"
   ]
  },
  {
   "cell_type": "code",
   "execution_count": 144,
   "metadata": {},
   "outputs": [
    {
     "name": "stdout",
     "output_type": "stream",
     "text": [
      "313/313 [==============================] - 0s 1ms/step - loss: 0.6396 - accuracy: 0.8367\n"
     ]
    }
   ],
   "source": [
    "_, custom_acc = model_custom_l2.evaluate(X_test, y_test)"
   ]
  },
  {
   "cell_type": "markdown",
   "metadata": {},
   "source": [
    "\n",
    "### Conclusion \n",
    "\n",
    "In this experiment, we have bridged the gap between the theory of **$L_p$ Space Regularization** and the practice of using the general formula as a starting point to derive and build our very own regularizers. \n",
    "\n",
    "This experiment (and the Perceptron that we build from scratch in Sprint 2 Module 1) are examples of **mathematical algorithms** - an algorithm in mathematics is a procedure, a description of a set of steps that can be used to solve a mathematical computation.\n",
    "\n",
    "It's one thing to use open-source pre-built mathematical algorithms like Keras regularizers and Sklearn ML models but it's quite another thing to build them from scratch. \n",
    "\n",
    "In industry, you'll need to know when you should build something from scratch and when to use an open source solution. The rule of thumb is don't build it if someone else already has because maintaining the code and fixing bugs is something that other developers (ie. the open-source community) can spend their time on and you don't have to. But if an open source solution doesn't exist for a solution that you need, then you'll need to build it or try an alternative solution.\n",
    "\n",
    "It's a good thing you're taking the time to practice building some mathematical algorithms from scratch. It's a very valuable skill to have. "
   ]
  },
  {
   "cell_type": "markdown",
   "metadata": {},
   "source": [
    "-----\n",
    "# GridSearch Experiments \n",
    "\n",
    "The next set of experiments will all involve gridsearching regularization parameter values. \n",
    "\n",
    "The rest of the notebook will actually require very little coding on your part. Instead, the focus is for you to run those gridsearches and answer the questions at the end of each experiment. Those questions are designed to help you capture the insights that there are to learn from each of the experiments. \n",
    "\n",
    "All of the following experiments are designed to help you better understand the relationship between the various regularization techniques and how they affect model performance. \n",
    "\n",
    "\n",
    "### Build Model\n",
    "\n",
    "Let's build out the model that we'll be using all throughout our experiments. \n",
    "\n",
    "Remember that **the whole point of regularization is to prevent overfitting.**\n",
    "\n",
    "\n",
    "![](https://hackernoon.com/hn-images/1*vuZxFMi5fODz2OEcpG-S1g.png)\n",
    "\n",
    "Overfitting happens when are model's are too complex, so in order to see a benefit from the use of regularization techniques we need to build a relatively complex model. \n",
    "\n",
    "Having said that, you might not have the computational resource to be able to train a complex model in a reasonable amount of time. So if this describes you, then you might want to consider using `build_simple_model`. Otherwise, I recommend that you use `build_complex_model`. \n",
    "\n",
    "This notebook will be using  `build_complex_model` to run our experiments. \n",
    "\n",
    "**NOTE:** Whichever function you end up using to build a model, take time to read through the code and make sure you understand what is happening. "
   ]
  },
  {
   "cell_type": "code",
   "execution_count": 145,
   "metadata": {},
   "outputs": [],
   "source": [
    "# def build_complex_model(Lp_reg=None, reg_penality=None, dropout_prob=0.0, maxnorm_wc=None):\n",
    "#     \"\"\"\n",
    "#     Build and return a regularized 3 hidden layer FCFF model \n",
    "    \n",
    "#     Parameters\n",
    "#     ----------\n",
    "#     Lp_reg: None or object\n",
    "#         If object, Lp_reg is either l1 or l2 regularization \n",
    "#         If None, that means that l1 or l2 regularization will not be used.\n",
    "     \n",
    "#     reg_penality: None or float\n",
    "#         If float, reg_penality is a value typically between 1.0 and 0.0001\n",
    "#         This is the regularization strength for l1 or l2 \n",
    "        \n",
    "        \n",
    "#     dropout_prob: float\n",
    "#         This is the probability that dropout regularization will exclude a node from a training iteration. \n",
    "#         If this value is 0.0, that means that dropout will not be used. \n",
    "        \n",
    "#     maxnorm_wc: None or float\n",
    "#         If float, maxnorm_wc is the weight constraint that is used for Max Norm regularization\n",
    "#         If None, that means that Max Norm regularization will not be used.\n",
    "        \n",
    "        \n",
    "#     Return\n",
    "#     ------\n",
    "#     model: complied Keras model\n",
    "#     \"\"\"\n",
    "    \n",
    "#     # if reg_type is not None, then pass in the penality strength to whatever form of Lp space regularization this is \n",
    "#     if Lp_reg is not None:\n",
    "#         Lp_regularizer = Lp_reg(reg_penality)\n",
    "#     else:\n",
    "#         Lp_regularizer = None\n",
    "                \n",
    "#     if maxnorm_wc is not None:\n",
    "#         wc = MaxNorm(max_value=maxnorm_wc)\n",
    "#     else:\n",
    "#         wc = None\n",
    "\n",
    "\n",
    "#     # instantiate Sequential class\n",
    "#     model = Sequential([\n",
    "\n",
    "#     # flatten images \n",
    "#     Flatten(input_shape=(28,28)),\n",
    "\n",
    "#     # hidden layer 1\n",
    "#     Dense(500, kernel_regularizer=Lp_regularizer , kernel_constraint=wc), # remember that Keras refers to weight matrix as a kernel, i.e. weights = kernel\n",
    "#     # act func 1\n",
    "#     ReLU(negative_slope=0.01),\n",
    "#     Dropout(dropout_prob),\n",
    "\n",
    "#     # hidden layer 2\n",
    "#     Dense(250, kernel_regularizer=Lp_regularizer, kernel_constraint=wc),\n",
    "#     # act func 2\n",
    "#     ReLU(negative_slope=0.01),\n",
    "#     Dropout(dropout_prob),\n",
    "\n",
    "#     # hidden layer 3\n",
    "#     Dense(100, kernel_regularizer=Lp_regularizer, kernel_constraint=wc),\n",
    "#     # act func 2\n",
    "#     ReLU(negative_slope=0.01),\n",
    "#     Dropout(dropout_prob),\n",
    "\n",
    "#     # output layer   \n",
    "#     Dense(N_labels, activation=\"softmax\")  \n",
    "\n",
    "#     ])\n",
    "#     # complie model \n",
    "#     model.compile(loss=\"sparse_categorical_crossentropy\", \n",
    "#                  optimizer=\"adam\", \n",
    "#                  metrics=[\"accuracy\"])\n",
    "    \n",
    "#     return model"
   ]
  },
  {
   "cell_type": "markdown",
   "metadata": {},
   "source": [
    "Again, only use `build_simple_model` instead of `build_complex_model` if you're working on a machine with very limited computational resource. "
   ]
  },
  {
   "cell_type": "code",
   "execution_count": 165,
   "metadata": {
    "colab": {},
    "colab_type": "code",
    "id": "USXjs7Hk71Hy"
   },
   "outputs": [],
   "source": [
    "def build_simple_model(Lp_reg=None, reg_penality=None, dropout_prob=0, maxnorm_wc=None):\n",
    "    \"\"\"\n",
    "    Build and return a regularized 1 hidden layer FCFF model \n",
    "    \n",
    "    Parameters\n",
    "    ----------\n",
    "    Lp_reg: None or object\n",
    "        If object, Lp_reg is either l1 or l2 regularization \n",
    "        If None, that means that l1 or l2 regularization will not be used.\n",
    "     \n",
    "    reg_penality: None or float\n",
    "        If float, reg_penality is a value typically between 1.0 and 0.0001\n",
    "        This is the regularization strength for l1 or l2 \n",
    "        \n",
    "        \n",
    "    dropout_prob: float\n",
    "        This is the probability that dropout regularization will exclude a node from a training iteration. \n",
    "        If this value is 0.0, that means that dropout will not be used. \n",
    "        \n",
    "    maxnorm_wc: None or float\n",
    "        If float, maxnorm_wc is the weight constraint that is used for Max Norm regularization\n",
    "        If None, that means that Max Norm regularization will not be used.\n",
    "        \n",
    "        \n",
    "    Return\n",
    "    ------\n",
    "    model: complied Keras model\n",
    "    \"\"\"\n",
    "    \n",
    "    if Lp_reg is not None:\n",
    "        Lp_regularizer = Lp_reg(reg_penality)\n",
    "    else:\n",
    "        Lp_regularizer = None\n",
    "        \n",
    "    if maxnorm_wc is not None:\n",
    "        wc = MaxNorm(max_value=maxnorm_wc)\n",
    "    else:\n",
    "        wc = None\n",
    "\n",
    "    # instantiate Sequential class\n",
    "    model = Sequential([\n",
    "\n",
    "    # flatten images \n",
    "    Flatten(input_shape=(28,28)),\n",
    "\n",
    "    # hidden layer 1\n",
    "    Dense(128,  kernel_regularizer=Lp_regularizer, kernel_constraint=wc), # remember that Keras refers to weight matrix as a kernel, i.e. weights = kernel\n",
    "    # act func 1\n",
    "    ReLU(negative_slope=0.01),\n",
    "    Dropout(dropout_prob),\n",
    "\n",
    "    # output layer   \n",
    "    Dense(N_labels, activation=\"softmax\")  \n",
    "\n",
    "    ])\n",
    "    # complie model \n",
    "    model.compile(loss=\"sparse_categorical_crossentropy\", \n",
    "                 optimizer=\"adam\", \n",
    "                 metrics=[\"accuracy\"])\n",
    "    \n",
    "    return model"
   ]
  },
  {
   "cell_type": "markdown",
   "metadata": {},
   "source": [
    "Since we'll be using Sklearn's GridserchCV class, we need to wrap our Keras models in `KerasClassifier`"
   ]
  },
  {
   "cell_type": "code",
   "execution_count": 166,
   "metadata": {},
   "outputs": [],
   "source": [
    "# remember to wrap KerasClassifier around build_model for sklearn's GridsearchCV compatibility \n",
    "model = KerasClassifier(build_fn = build_simple_model)"
   ]
  },
  {
   "cell_type": "markdown",
   "metadata": {},
   "source": [
    "-------\n",
    "\n",
    "# Experiment 1: Identify the relationship between model performance and L2 penalty strength\n",
    "\n",
    "![](https://www.researchgate.net/publication/334159821/figure/fig1/AS:776025558495234@1562030319993/Ridge-regression-variable-selection.png)\n",
    "\n",
    "We are going to run a gridsearch soley on the l2 regularization penalty value and see the effect this has on model performance. \n",
    "\n",
    "By running a gridseach on only a single hyperparameter (while using the same data and model) we can isolate the effect of that hyperparameter. "
   ]
  },
  {
   "cell_type": "code",
   "execution_count": 148,
   "metadata": {},
   "outputs": [],
   "source": [
    "# build out our hyperparameter dictionary \n",
    "hyper_parameters = {\n",
    "    # take note that Lp_reg penalty/strength values are in powers of 10 \n",
    "    \"reg_penality\": [1.0, 0.1, 0.01, 0.001, 0.0001, 0.00001], \n",
    "    # Since we only want to test l2, provide l2 as the sole option \n",
    "    \"Lp_reg\": [l2],\n",
    "    # default is 1, in order to change it we must provide value here because we can't provide a parameter value for model.fit() directly when using gridsearch\n",
    "    # protip: consider chanign epochs to 1 if the gridsearche run-time are too long for you\n",
    "    \"epochs\": [1] \n",
    "}"
   ]
  },
  {
   "cell_type": "code",
   "execution_count": 149,
   "metadata": {
    "colab": {},
    "colab_type": "code",
    "id": "USXjs7Hk71Hy"
   },
   "outputs": [
    {
     "name": "stdout",
     "output_type": "stream",
     "text": [
      "Fitting 2 folds for each of 6 candidates, totalling 12 fits\n",
      "1875/1875 [==============================] - 4s 2ms/step - loss: 0.6523 - accuracy: 0.7794\n"
     ]
    }
   ],
   "source": [
    "start=time()\n",
    "# Create and run Grid Search\n",
    "grid = GridSearchCV(estimator=model, \n",
    "                    param_grid=hyper_parameters, \n",
    "                    n_jobs=-3, \n",
    "                    verbose=1, \n",
    "                    cv=2)\n",
    "\n",
    "grid_result = grid.fit(X_train, y_train)\n",
    "end=time()"
   ]
  },
  {
   "cell_type": "code",
   "execution_count": 150,
   "metadata": {},
   "outputs": [
    {
     "name": "stdout",
     "output_type": "stream",
     "text": [
      "Gridsearch runtime 0.398 mins\n"
     ]
    }
   ],
   "source": [
    "print(\"Gridsearch runtime {0:.3} mins\".format( (end-start)/60 ))"
   ]
  },
  {
   "cell_type": "code",
   "execution_count": 151,
   "metadata": {},
   "outputs": [
    {
     "data": {
      "image/png": "[encoded data removed]",
      "text/plain": [
       "<Figure size 1440x432 with 1 Axes>"
      ]
     },
     "metadata": {
      "needs_background": "light"
     },
     "output_type": "display_data"
    }
   ],
   "source": [
    "# use the mean accuracy from the CV splits for determining best model score \n",
    "means = grid_result.cv_results_['mean_test_score']\n",
    "stds = grid_result.cv_results_['std_test_score']\n",
    "params = grid_result.cv_results_['params']\n",
    "\n",
    "# move l2 penalty values outside of dictionary and into a list\n",
    "param_values = [dic[\"reg_penality\"] for dic in params]\n",
    "\n",
    "# plot accuracy vs l2_reg_penalty\n",
    "plt.figure(figsize=(20,6))\n",
    "plt.grid()\n",
    "\n",
    "# this plot is using the std of the CV splits to plot error bars however those values are so small that they aren't visable\n",
    "plt.errorbar(param_values, means, yerr=stds, ecolor=\"orange\")\n",
    "plt.xscale(\"log\") # use a log scale for ease of reading, recall that l2_reg_penalty were in powers of 10 \n",
    "plt.title(\"L2 Regularization: Model Accuracy vs L2 Penalty Strength\")\n",
    "plt.ylabel(\"Validation Accuracy\", )\n",
    "plt.xlabel(\"L2 Penalty Strength usng a Log Scale\");"
   ]
  },
  {
   "cell_type": "markdown",
   "metadata": {},
   "source": [
    "### Observations\n",
    "\n",
    "Write down some observations. What do you notice from the plot?"
   ]
  },
  {
   "cell_type": "markdown",
   "metadata": {
    "deletable": false,
    "nbgrader": {
     "cell_type": "markdown",
     "checksum": "089b55b5a84d9c96c51fd341d9e6c74f",
     "grade": true,
     "grade_id": "cell-010212fc0915b976",
     "locked": false,
     "points": 0,
     "schema_version": 3,
     "solution": true,
     "task": false
    }
   },
   "source": [
    "YOUR ANSWER HERE The higher the strength of the penalty the lower the accuracy is"
   ]
  },
  {
   "cell_type": "markdown",
   "metadata": {},
   "source": [
    "\n",
    "## Compare Weights between Best and Worse Model \n",
    "\n",
    "Next, we are going to compare the hidden layer weights between the best and worse performing model while taking note of the respective l2 penalty strengths."
   ]
  },
  {
   "cell_type": "code",
   "execution_count": 152,
   "metadata": {},
   "outputs": [],
   "source": [
    "# get the best l2 penalty term \n",
    "best_lr_penalty = grid_result.best_params_[\"reg_penality\"]\n",
    "\n",
    "# get the best trained model \n",
    "best_model = grid_result.best_estimator_.build_fn(Lp_reg=l2, reg_penality=best_lr_penalty)\n",
    "\n",
    "# get the weights from the best trained model \n",
    "best_weights = best_model.get_weights()"
   ]
  },
  {
   "cell_type": "code",
   "execution_count": 153,
   "metadata": {},
   "outputs": [
    {
     "name": "stdout",
     "output_type": "stream",
     "text": [
      "1875/1875 [==============================] - 4s 2ms/step - loss: 15.0977 - accuracy: 0.5995\n"
     ]
    }
   ],
   "source": [
    "# train a model using the l2_reg_penalty value at scored the lowest \n",
    "worse_l2_reg_penalty = 1.0\n",
    "\n",
    "worse_model = build_simple_model(Lp_reg=l2, reg_penality=worse_l2_reg_penalty)\n",
    "\n",
    "# fit model \n",
    "worse_model.fit(X_train, y_train, epochs=1)\n",
    "\n",
    "# get weights from worse performing model \n",
    "worse_weights = worse_model.get_weights()"
   ]
  },
  {
   "cell_type": "markdown",
   "metadata": {},
   "source": [
    "-----\n",
    "## Understanding how Weights and Biases are stored"
   ]
  },
  {
   "cell_type": "markdown",
   "metadata": {},
   "source": [
    "Let's take a minute to understand that`.get_weights()` returns a list with 8 elements (if you're using `build_complex_model`)."
   ]
  },
  {
   "cell_type": "code",
   "execution_count": 154,
   "metadata": {},
   "outputs": [
    {
     "data": {
      "text/plain": [
       "4"
      ]
     },
     "execution_count": 154,
     "metadata": {},
     "output_type": "execute_result"
    }
   ],
   "source": [
    "len(best_weights)"
   ]
  },
  {
   "cell_type": "markdown",
   "metadata": {},
   "source": [
    "There are **weights matrices and bias vectors between each layer** and we have 5 layers. \n",
    "\n",
    "- Input\n",
    "- Hidden 1\n",
    "- Hidden 2\n",
    "- Hidden 3\n",
    "- Output \n",
    "\n",
    "So that means we should have 4 weight matrices, but we see 8. **There are also 4 weight vectors for the biases between each layer.** So that accounts for the 8. \n",
    "\n",
    "\n",
    "#### Index for Weight Matrices \n",
    "If you index for a weight matrix, you can see its shape and that they are indeed matrices. \n",
    "\n",
    "Notice how you can see the dims of the layers that the matrices are sandwiched between?\n",
    "\n",
    "Input layer has 784 dims and hidden layer 1 has 500 dims. Given this understanding, the numbers you see in the shapes should make sense. "
   ]
  },
  {
   "cell_type": "code",
   "execution_count": 155,
   "metadata": {},
   "outputs": [
    {
     "data": {
      "text/plain": [
       "(784, 128)"
      ]
     },
     "execution_count": 155,
     "metadata": {},
     "output_type": "execute_result"
    }
   ],
   "source": [
    "# bewteen input and 1st hidden layer\n",
    "best_weights[0].shape"
   ]
  },
  {
   "cell_type": "code",
   "execution_count": 156,
   "metadata": {},
   "outputs": [
    {
     "data": {
      "text/plain": [
       "(128, 10)"
      ]
     },
     "execution_count": 156,
     "metadata": {},
     "output_type": "execute_result"
    }
   ],
   "source": [
    "# bewteen 1st and output layer\n",
    "best_weights[2].shape"
   ]
  },
  {
   "cell_type": "markdown",
   "metadata": {},
   "source": [
    "#### Index for the bias vectors\n",
    "\n",
    "The shapes of the bias vectors should exactly match up the dims/nodes of each layer (excluding the input layer). "
   ]
  },
  {
   "cell_type": "code",
   "execution_count": 157,
   "metadata": {},
   "outputs": [
    {
     "data": {
      "text/plain": [
       "(128,)"
      ]
     },
     "execution_count": 157,
     "metadata": {},
     "output_type": "execute_result"
    }
   ],
   "source": [
    "# for hidden layer 1 \n",
    "best_weights[1].shape"
   ]
  },
  {
   "cell_type": "code",
   "execution_count": 158,
   "metadata": {},
   "outputs": [
    {
     "data": {
      "text/plain": [
       "(10,)"
      ]
     },
     "execution_count": 158,
     "metadata": {},
     "output_type": "execute_result"
    }
   ],
   "source": [
    "# for output layer\n",
    "best_weights[3].shape"
   ]
  },
  {
   "cell_type": "markdown",
   "metadata": {},
   "source": [
    "-----\n",
    "\n",
    "### Back to our Analysis of L2 space regularization (also known as Ridge)\n",
    "\n",
    "Let's do a comparison of the first weight matrix (between the input and 1st hidden layer) for the best and worse performing model as well as with the initial weight values that are randomly sampled from the GlorotUniform distribution.\n",
    "\n",
    "[**Check out the Keras docs for the Dense layer**](https://keras.io/api/layers/core_layers/dense/), you'll see that GlorotUniform is the default weight initializer. "
   ]
  },
  {
   "cell_type": "markdown",
   "metadata": {},
   "source": [
    "Before we compare weights, let's take note of the following. \n",
    "\n",
    "Both `best_weights[0]` or `worse_weights[0]` are matrices with shape `(784, 500)`. \n",
    "\n",
    "If we flatten them, then we get `784 * 500 = 392000` weights. What does this mean exactly?\n",
    "\n",
    "Remember that we are working with the Fully Connected Forward Feeding model which looks something like this. \n",
    "\n",
    "![](https://pyimagesearch.com/wp-content/uploads/2016/08/simple_neural_network_header.jpg)\n",
    "\n",
    "The important thing to notice is that in `Fully Connected` models, each component in the input vectors gets passed to all the nodes in next layer. This means for our input vector with 784 dims, there are 784 **$w_1$** weights, each with a slightly different value, one for each of the 784 components in the input vector. \n",
    "\n",
    "So to keep our analysis simple, we are going to just analyze one column of the weight matrix. You could index for whatever column you want, but this notebook will assume that you have indexed for the weights in column one. This means that we will compare the affect that regularization had on all of the 784 **$w_1$** weights that exist in 500 dimensional space of hidden layer 1. \n",
    "\n",
    "In other words, by looking at just one column, we are narrowing our analysis to the distribution of values for w_1 oppose to mixing together the distributions of all the weights w_1, w_2, ..., w_500. This is done for simplicity of analysis, the goal being to empirically observe the affect of regularization on the weights. "
   ]
  },
  {
   "cell_type": "code",
   "execution_count": 159,
   "metadata": {
    "deletable": false,
    "nbgrader": {
     "cell_type": "code",
     "checksum": "a3f75126a80a74dd71fb0a9ab2b8b89f",
     "grade": false,
     "grade_id": "cell-7882876b8973bc7b",
     "locked": false,
     "schema_version": 3,
     "solution": true,
     "task": false
    }
   },
   "outputs": [],
   "source": [
    "# index for the 1st column in the 1st hidden layer weights in best_weights and save to best_hidden_weights\n",
    "best_hidden_weights = best_weights[0][0]\n",
    "\n",
    "# index for the 1st column in the 1st hidden layer weights in worse_weights and save to worse_hidden_weights\n",
    "worse_hidden_weights = worse_weights[0][0]\n",
    "\n",
    "# Keras models randomly samples from the GlorotUniform distribution for the initial values of model weights \n",
    "# instantiate GlorotUniform and sample 500 weights and save to initial_weight_values\n",
    "# hint: use shape=(500,1)\n",
    "initializer = GlorotUniform()\n",
    "initial_weight_values = initializer(shape=(128,1))\n",
    "\n",
    "# lastly, flatten all of the above 3 variables so that you go from a matrix to a vector \n",
    "# otherwise, pandas will not like you and throw a fit \n",
    "initial_weight_values = initial_weight_values.numpy().flatten()"
   ]
  },
  {
   "cell_type": "code",
   "execution_count": 160,
   "metadata": {},
   "outputs": [],
   "source": [
    "# move all weights to a dataframe for ease of analysis \n",
    "cols = [\"best_hidden_weights\", \"worse_hidden_weights\", \"initial_weight_values\"]\n",
    "data = [best_hidden_weights, worse_hidden_weights, initial_weight_values]\n",
    "df = pd.DataFrame(data=data).T\n",
    "df.columns = cols"
   ]
  },
  {
   "cell_type": "code",
   "execution_count": 161,
   "metadata": {},
   "outputs": [
    {
     "data": {
      "text/html": [
       "<div>\n",
       "<style scoped>\n",
       "    .dataframe tbody tr th:only-of-type {\n",
       "        vertical-align: middle;\n",
       "    }\n",
       "\n",
       "    .dataframe tbody tr th {\n",
       "        vertical-align: top;\n",
       "    }\n",
       "\n",
       "    .dataframe thead th {\n",
       "        text-align: right;\n",
       "    }\n",
       "</style>\n",
       "<table border=\"1\" class=\"dataframe\">\n",
       "  <thead>\n",
       "    <tr style=\"text-align: right;\">\n",
       "      <th></th>\n",
       "      <th>best_hidden_weights</th>\n",
       "      <th>worse_hidden_weights</th>\n",
       "      <th>initial_weight_values</th>\n",
       "    </tr>\n",
       "  </thead>\n",
       "  <tbody>\n",
       "    <tr>\n",
       "      <th>count</th>\n",
       "      <td>128.000000</td>\n",
       "      <td>1.280000e+02</td>\n",
       "      <td>128.000000</td>\n",
       "    </tr>\n",
       "    <tr>\n",
       "      <th>mean</th>\n",
       "      <td>0.000791</td>\n",
       "      <td>-1.792008e-07</td>\n",
       "      <td>0.002009</td>\n",
       "    </tr>\n",
       "    <tr>\n",
       "      <th>std</th>\n",
       "      <td>0.043637</td>\n",
       "      <td>4.358991e-06</td>\n",
       "      <td>0.126570</td>\n",
       "    </tr>\n",
       "    <tr>\n",
       "      <th>min</th>\n",
       "      <td>-0.079978</td>\n",
       "      <td>-2.432961e-05</td>\n",
       "      <td>-0.211858</td>\n",
       "    </tr>\n",
       "    <tr>\n",
       "      <th>25%</th>\n",
       "      <td>-0.034554</td>\n",
       "      <td>-6.768916e-07</td>\n",
       "      <td>-0.101282</td>\n",
       "    </tr>\n",
       "    <tr>\n",
       "      <th>50%</th>\n",
       "      <td>0.002682</td>\n",
       "      <td>3.364588e-08</td>\n",
       "      <td>0.012119</td>\n",
       "    </tr>\n",
       "    <tr>\n",
       "      <th>75%</th>\n",
       "      <td>0.033297</td>\n",
       "      <td>8.593489e-07</td>\n",
       "      <td>0.111891</td>\n",
       "    </tr>\n",
       "    <tr>\n",
       "      <th>max</th>\n",
       "      <td>0.080816</td>\n",
       "      <td>1.508738e-05</td>\n",
       "      <td>0.215351</td>\n",
       "    </tr>\n",
       "  </tbody>\n",
       "</table>\n",
       "</div>"
      ],
      "text/plain": [
       "       best_hidden_weights  worse_hidden_weights  initial_weight_values\n",
       "count           128.000000          1.280000e+02             128.000000\n",
       "mean              0.000791         -1.792008e-07               0.002009\n",
       "std               0.043637          4.358991e-06               0.126570\n",
       "min              -0.079978         -2.432961e-05              -0.211858\n",
       "25%              -0.034554         -6.768916e-07              -0.101282\n",
       "50%               0.002682          3.364588e-08               0.012119\n",
       "75%               0.033297          8.593489e-07               0.111891\n",
       "max               0.080816          1.508738e-05               0.215351"
      ]
     },
     "execution_count": 161,
     "metadata": {},
     "output_type": "execute_result"
    }
   ],
   "source": [
    "# check out the statistics for each weight column \n",
    "df.describe()"
   ]
  },
  {
   "cell_type": "code",
   "execution_count": 162,
   "metadata": {},
   "outputs": [
    {
     "data": {
      "image/png": "[encoded data removed]",
      "text/plain": [
       "<Figure size 1440x864 with 4 Axes>"
      ]
     },
     "metadata": {
      "needs_background": "light"
     },
     "output_type": "display_data"
    }
   ],
   "source": [
    "# plot the distributions for each weight column \n",
    "df.hist(figsize=(20,12));"
   ]
  },
  {
   "cell_type": "markdown",
   "metadata": {},
   "source": [
    "## Observations \n",
    "\n",
    "Take a look at the statistical table and the plots. Then answer the following questions. \n",
    "\n",
    "**How do the hidden layer weights from the best performing model compare to the initial weight values?**"
   ]
  },
  {
   "cell_type": "markdown",
   "metadata": {
    "deletable": false,
    "nbgrader": {
     "cell_type": "markdown",
     "checksum": "5eacb66f89b216ae3b4bb3c4b7bd6d38",
     "grade": true,
     "grade_id": "cell-6add7cc400c4c716",
     "locked": false,
     "points": 0,
     "schema_version": 3,
     "solution": true,
     "task": false
    }
   },
   "source": [
    "YOUR ANSWER HERE Their distributions are kind of the same"
   ]
  },
  {
   "cell_type": "markdown",
   "metadata": {},
   "source": [
    "**What was the effect of using a small l2 penalty value?**"
   ]
  },
  {
   "cell_type": "markdown",
   "metadata": {
    "deletable": false,
    "nbgrader": {
     "cell_type": "markdown",
     "checksum": "92ac1689b72d727ab7f4d261c5e76daa",
     "grade": true,
     "grade_id": "cell-5b4f11bba2d49639",
     "locked": false,
     "points": 0,
     "schema_version": 3,
     "solution": true,
     "task": false
    }
   },
   "source": [
    "YOUR ANSWER HERE The weight is still keeping the distribution of the initial weight values"
   ]
  },
  {
   "cell_type": "markdown",
   "metadata": {},
   "source": [
    "**What was the effect of using a large l2 penalty value?**"
   ]
  },
  {
   "cell_type": "markdown",
   "metadata": {
    "deletable": false,
    "nbgrader": {
     "cell_type": "markdown",
     "checksum": "3048a6d2805f61d6fb58372c42c3ac54",
     "grade": true,
     "grade_id": "cell-0a30b62e5e119555",
     "locked": false,
     "points": 0,
     "schema_version": 3,
     "solution": true,
     "task": false
    }
   },
   "source": [
    "YOUR ANSWER HERE Penelize too many weights that shrink the weight to much"
   ]
  },
  {
   "cell_type": "markdown",
   "metadata": {},
   "source": [
    "**Given what you know about L2 regularization, are you surprised by these results?**"
   ]
  },
  {
   "cell_type": "markdown",
   "metadata": {
    "deletable": false,
    "nbgrader": {
     "cell_type": "markdown",
     "checksum": "d8a2034f67badfe53f601873f7026dc0",
     "grade": true,
     "grade_id": "cell-c04d067161064011",
     "locked": false,
     "points": 0,
     "schema_version": 3,
     "solution": true,
     "task": false
    }
   },
   "source": [
    "YOUR ANSWER HERE: No idea"
   ]
  },
  {
   "cell_type": "markdown",
   "metadata": {},
   "source": [
    "----\n",
    "\n",
    "# Experiment 2: Identify the relationship between model performance and Max Norm Weight Constraint\n",
    "\n",
    "![](https://qph.fs.quoracdn.net/main-qimg-9d0dbf8074761b541ba80543ddfc9f73.webp)\n",
    "\n",
    "Recall from lecture that the **Norm** of a vector is just another word for the **length** of a vector.\n",
    "\n",
    "MaxNorm weight constraint puts a limit on the length of a weight vector.\n",
    "\n",
    "$$ \\text{Max_value_of_norm} >= {\\displaystyle \\left\\|x\\right\\|_{p}=\\left(|x_{1}|^{p}+|x_{2}|^{p}+\\dotsb +|x_{n}|^{p}\\right)^{1/p}.}$$  \n",
    "\n",
    "The effect that Lp regularization and Max Norm Weight Constraint have on the weights should be the same, but they go about it in different ways. \n",
    "\n",
    "Lp regularization (l1/Lasso and l2/Ridge) shrink the value of the weights. Where as Max Norm Weight Constraint puts a limit on how big the weight vector can be which, in effect, keeps the individual weight values small enough to keep the norm below that limit. \n",
    "\n",
    "In this experiment, we are going to run another gridseach but instead of using Lp space regularization as we did in the previous experiment, we are going to use MaxNorm and see what kind of effect that this type of regularization has on model performance and the learned weights. "
   ]
  },
  {
   "cell_type": "markdown",
   "metadata": {},
   "source": [
    "Since we already built our model, we just need to update the `hyper_parameters` dictionary. "
   ]
  },
  {
   "cell_type": "code",
   "execution_count": 178,
   "metadata": {},
   "outputs": [
    {
     "data": {
      "text/plain": [
       "{'maxnorm_wc': (0.5,\n",
       "  1,\n",
       "  1.5,\n",
       "  2,\n",
       "  2.5,\n",
       "  3,\n",
       "  3.5,\n",
       "  4,\n",
       "  4.5,\n",
       "  5,\n",
       "  5.5,\n",
       "  6,\n",
       "  6.5,\n",
       "  7,\n",
       "  7.5,\n",
       "  8,\n",
       "  8.5,\n",
       "  9,\n",
       "  9.5,\n",
       "  10),\n",
       " 'epochs': [1]}"
      ]
     },
     "execution_count": 178,
     "metadata": {},
     "output_type": "execute_result"
    }
   ],
   "source": [
    "# build out our hyperparameter dictionary \n",
    "hyper_parameters = {\n",
    "    \n",
    "    # \"maxnorm_wc\": np.linspace(0.5, 10.0, num=10),  <-- for some reason using np.linspace break\n",
    "    # Bug: Cannot clone object <tensorflow.python.keras.wrappers.scikit_learn.KerasClassifier object\n",
    "    # The solution https://stackoverflow.com/questions/59746974/cannot-clone-object-tensorflow-python-keras-wrappers-scikit-learn-kerasclassifi\n",
    "    \"maxnorm_wc\": (0.5, 1, 1.5, 2, 2.5, 3, 3.5, 4, 4.5, 5, 5.5, 6 , 6.5, 7, 7.5, 8, 8.5, 9, 9.5, 10), \n",
    "    # default is 1, in order to change it we must provide value here because we can't provide a parameter value for model.fit() directly when using gridsearch\n",
    "    # protip: consider changing epochs to 1 if the gridsearche run-time are too long for you    \n",
    "    \"epochs\": [1] \n",
    "}\n",
    "\n",
    "hyper_parameters"
   ]
  },
  {
   "cell_type": "code",
   "execution_count": 179,
   "metadata": {},
   "outputs": [
    {
     "name": "stdout",
     "output_type": "stream",
     "text": [
      "Fitting 2 folds for each of 20 candidates, totalling 40 fits\n",
      "1875/1875 [==============================] - 4s 2ms/step - loss: 0.6298 - accuracy: 0.7816\n"
     ]
    }
   ],
   "source": [
    "start=time()\n",
    "# Create and run Grid Search\n",
    "grid = GridSearchCV(estimator=model, \n",
    "                    param_grid=hyper_parameters, \n",
    "                    n_jobs=-3, \n",
    "                    verbose=1, \n",
    "                    cv=2)\n",
    "\n",
    "grid_result = grid.fit(X_train, y_train)\n",
    "end=time()"
   ]
  },
  {
   "cell_type": "code",
   "execution_count": 180,
   "metadata": {},
   "outputs": [
    {
     "name": "stdout",
     "output_type": "stream",
     "text": [
      "Gridsearch runtime 0.759 mins\n"
     ]
    }
   ],
   "source": [
    "print(\"Gridsearch runtime {0:.3} mins\".format( (end-start)/60 ))"
   ]
  },
  {
   "cell_type": "code",
   "execution_count": 181,
   "metadata": {},
   "outputs": [
    {
     "data": {
      "image/png": "[encoded data removed]",
      "text/plain": [
       "<Figure size 1440x432 with 1 Axes>"
      ]
     },
     "metadata": {
      "needs_background": "light"
     },
     "output_type": "display_data"
    }
   ],
   "source": [
    "# use the mean accuracy from the CV splits for determining best model score \n",
    "means = grid.cv_results_['mean_test_score']\n",
    "stds = grid.cv_results_['std_test_score']\n",
    "params = grid.cv_results_['params']\n",
    "\n",
    "# move l2 penalty values outside of dictionary and into a list\n",
    "param_values = [dic[\"maxnorm_wc\"] for dic in params]\n",
    "\n",
    "# plot accuracy vs l2_reg_penalty\n",
    "plt.figure(figsize=(20,6))\n",
    "plt.grid()\n",
    "plt.errorbar(param_values, means, yerr=stds, ecolor=\"orange\")\n",
    "plt.title(\"L1 Regularization: Model Accuracy vs L1 Penalty Strength\")\n",
    "plt.ylabel(\"Validation Accuracy\", )\n",
    "plt.xlabel(\"Max Norm for Weight Vector \");"
   ]
  },
  {
   "cell_type": "code",
   "execution_count": 183,
   "metadata": {
    "deletable": false,
    "nbgrader": {
     "cell_type": "code",
     "checksum": "cfe7bd54a7a14ba7ee63c88d6d1828b4",
     "grade": false,
     "grade_id": "cell-f67372e0b9b30614",
     "locked": false,
     "schema_version": 3,
     "solution": true,
     "task": false
    }
   },
   "outputs": [],
   "source": [
    "# get the best l2 penalty term from grid and save to best_max_norm_val\n",
    "best_max_norm_val = grid_result.best_params_[\"maxnorm_wc\"]\n",
    "\n",
    "# get the best trained model from grid and save to best_model\n",
    "best_model = grid_result.best_estimator_.build_fn(maxnorm_wc=best_lr_penalty)\n",
    "\n",
    "# get the weights from the best trained model and save to best_weights\n",
    "best_weights = best_model.get_weights()"
   ]
  },
  {
   "cell_type": "code",
   "execution_count": 184,
   "metadata": {},
   "outputs": [
    {
     "data": {
      "text/plain": [
       "4"
      ]
     },
     "execution_count": 184,
     "metadata": {},
     "output_type": "execute_result"
    }
   ],
   "source": [
    "best_max_norm_val"
   ]
  },
  {
   "cell_type": "code",
   "execution_count": 185,
   "metadata": {},
   "outputs": [
    {
     "data": {
      "text/plain": [
       "0.4879981"
      ]
     },
     "execution_count": 185,
     "metadata": {},
     "output_type": "execute_result"
    }
   ],
   "source": [
    "# we see that the norm of our weights are indeed below the maximum allowed value \n",
    "np.linalg.norm(best_weights[0][0])"
   ]
  },
  {
   "cell_type": "code",
   "execution_count": 188,
   "metadata": {
    "deletable": false,
    "nbgrader": {
     "cell_type": "code",
     "checksum": "67f65bd636e3b3b3bc7d20c02ba6b666",
     "grade": false,
     "grade_id": "cell-e752c1a8c853985d",
     "locked": false,
     "schema_version": 3,
     "solution": true,
     "task": false
    }
   },
   "outputs": [
    {
     "name": "stdout",
     "output_type": "stream",
     "text": [
      "1875/1875 [==============================] - 3s 1ms/step - loss: 0.6756 - accuracy: 0.7688\n"
     ]
    }
   ],
   "source": [
    "# train a model using the max_norm_val value that scored the lowest \n",
    "worse_maxnorm_wc = 0.5\n",
    "\n",
    "# build a model using build_complex_model and worse_max_norm_val and save it to worse_model\n",
    "worse_model = build_simple_model(maxnorm_wc=worse_maxnorm_wc)\n",
    "\n",
    "# fit model \n",
    "worse_model.fit(X_train, y_train, epochs=1)\n",
    "\n",
    "# get weights from worse performing model\n",
    "worse_weights = worse_model.get_weights()\n"
   ]
  },
  {
   "cell_type": "code",
   "execution_count": 190,
   "metadata": {
    "deletable": false,
    "nbgrader": {
     "cell_type": "code",
     "checksum": "a38d5d4db707124b31a662fb4743b049",
     "grade": false,
     "grade_id": "cell-5c1aa4543e68487d",
     "locked": false,
     "schema_version": 3,
     "solution": true,
     "task": false
    }
   },
   "outputs": [],
   "source": [
    "# index for the 1st column in the 1st hidden layer weights in best_weights and save to best_hidden_weights\n",
    "best_hidden_weights = best_weights[0][0]\n",
    "\n",
    "# index for the 1st column in the 1st hidden layer weights in worse_weights and save to worse_hidden_weights\n",
    "worse_hidden_weights = worse_weights[0][0]\n",
    "\n",
    "# instantiate GlorotUniform\n",
    "initializer = GlorotUniform()\n",
    "initial_weight_values = initializer(shape=(128,1))\n",
    "\n",
    "# lastly, flatten all of the above 3 variables\n",
    "initial_weight_values = initial_weight_values.numpy().flatten()"
   ]
  },
  {
   "cell_type": "code",
   "execution_count": 191,
   "metadata": {},
   "outputs": [],
   "source": [
    "# move all weights to a dataframe for ease of analysis \n",
    "cols = [\"best_hidden_weights\", \"worse_hidden_weights\", \"initial_weight_values\"]\n",
    "data = [best_hidden_weights, worse_hidden_weights, initial_weight_values]\n",
    "df_maxnorm= pd.DataFrame(data=data).T\n",
    "df_maxnorm.columns = cols"
   ]
  },
  {
   "cell_type": "code",
   "execution_count": 192,
   "metadata": {},
   "outputs": [
    {
     "data": {
      "text/html": [
       "<div>\n",
       "<style scoped>\n",
       "    .dataframe tbody tr th:only-of-type {\n",
       "        vertical-align: middle;\n",
       "    }\n",
       "\n",
       "    .dataframe tbody tr th {\n",
       "        vertical-align: top;\n",
       "    }\n",
       "\n",
       "    .dataframe thead th {\n",
       "        text-align: right;\n",
       "    }\n",
       "</style>\n",
       "<table border=\"1\" class=\"dataframe\">\n",
       "  <thead>\n",
       "    <tr style=\"text-align: right;\">\n",
       "      <th></th>\n",
       "      <th>best_hidden_weights</th>\n",
       "      <th>worse_hidden_weights</th>\n",
       "      <th>initial_weight_values</th>\n",
       "    </tr>\n",
       "  </thead>\n",
       "  <tbody>\n",
       "    <tr>\n",
       "      <th>count</th>\n",
       "      <td>128.000000</td>\n",
       "      <td>128.000000</td>\n",
       "      <td>128.000000</td>\n",
       "    </tr>\n",
       "    <tr>\n",
       "      <th>mean</th>\n",
       "      <td>-0.000358</td>\n",
       "      <td>0.001893</td>\n",
       "      <td>-0.011199</td>\n",
       "    </tr>\n",
       "    <tr>\n",
       "      <th>std</th>\n",
       "      <td>0.043301</td>\n",
       "      <td>0.011099</td>\n",
       "      <td>0.122498</td>\n",
       "    </tr>\n",
       "    <tr>\n",
       "      <th>min</th>\n",
       "      <td>-0.080282</td>\n",
       "      <td>-0.023942</td>\n",
       "      <td>-0.214946</td>\n",
       "    </tr>\n",
       "    <tr>\n",
       "      <th>25%</th>\n",
       "      <td>-0.038115</td>\n",
       "      <td>-0.005444</td>\n",
       "      <td>-0.107728</td>\n",
       "    </tr>\n",
       "    <tr>\n",
       "      <th>50%</th>\n",
       "      <td>-0.004106</td>\n",
       "      <td>0.001152</td>\n",
       "      <td>-0.020346</td>\n",
       "    </tr>\n",
       "    <tr>\n",
       "      <th>75%</th>\n",
       "      <td>0.036087</td>\n",
       "      <td>0.010822</td>\n",
       "      <td>0.084775</td>\n",
       "    </tr>\n",
       "    <tr>\n",
       "      <th>max</th>\n",
       "      <td>0.080820</td>\n",
       "      <td>0.026328</td>\n",
       "      <td>0.205544</td>\n",
       "    </tr>\n",
       "  </tbody>\n",
       "</table>\n",
       "</div>"
      ],
      "text/plain": [
       "       best_hidden_weights  worse_hidden_weights  initial_weight_values\n",
       "count           128.000000            128.000000             128.000000\n",
       "mean             -0.000358              0.001893              -0.011199\n",
       "std               0.043301              0.011099               0.122498\n",
       "min              -0.080282             -0.023942              -0.214946\n",
       "25%              -0.038115             -0.005444              -0.107728\n",
       "50%              -0.004106              0.001152              -0.020346\n",
       "75%               0.036087              0.010822               0.084775\n",
       "max               0.080820              0.026328               0.205544"
      ]
     },
     "execution_count": 192,
     "metadata": {},
     "output_type": "execute_result"
    }
   ],
   "source": [
    "df_maxnorm.describe()"
   ]
  },
  {
   "cell_type": "code",
   "execution_count": 193,
   "metadata": {},
   "outputs": [
    {
     "data": {
      "image/png": "[encoded data removed]",
      "text/plain": [
       "<Figure size 1440x864 with 4 Axes>"
      ]
     },
     "metadata": {
      "needs_background": "light"
     },
     "output_type": "display_data"
    }
   ],
   "source": [
    "# plot the distributions for each weight column \n",
    "df_maxnorm.hist(figsize=(20,12));"
   ]
  },
  {
   "cell_type": "markdown",
   "metadata": {},
   "source": [
    "## Observations \n",
    "\n",
    "Take a look at the statistical table and the plots. Then answer the following questions. \n",
    "\n",
    "**How do the hidden layer weights from the best performing model compare to the initial weight values?**"
   ]
  },
  {
   "cell_type": "markdown",
   "metadata": {
    "deletable": false,
    "nbgrader": {
     "cell_type": "markdown",
     "checksum": "f43fe1110cdcea8d1e4b432fe78d4e49",
     "grade": true,
     "grade_id": "cell-40a44d19694941b8",
     "locked": false,
     "points": 0,
     "schema_version": 3,
     "solution": true,
     "task": false
    }
   },
   "source": [
    "YOUR ANSWER HERE Their distributions are kind of the same"
   ]
  },
  {
   "cell_type": "markdown",
   "metadata": {},
   "source": [
    "**What was the effect of using the weight constraint value in MaxNorm in the best performing model?**"
   ]
  },
  {
   "cell_type": "markdown",
   "metadata": {
    "deletable": false,
    "nbgrader": {
     "cell_type": "markdown",
     "checksum": "b1c59c58a5abdbc0b509983821198dba",
     "grade": true,
     "grade_id": "cell-4f9e1e134124e512",
     "locked": false,
     "points": 0,
     "schema_version": 3,
     "solution": true,
     "task": false
    }
   },
   "source": [
    "YOUR ANSWER HERE The weight is still keeping the distribution of the initial weight values"
   ]
  },
  {
   "cell_type": "markdown",
   "metadata": {},
   "source": [
    "**What was the effect of using the weight constraint value in MaxNorm in the worse performing model?**"
   ]
  },
  {
   "cell_type": "markdown",
   "metadata": {
    "deletable": false,
    "nbgrader": {
     "cell_type": "markdown",
     "checksum": "0062b4ddfad487c39633c37f4710b752",
     "grade": true,
     "grade_id": "cell-4c289ce70c34048a",
     "locked": false,
     "points": 0,
     "schema_version": 3,
     "solution": true,
     "task": false
    }
   },
   "source": [
    "YOUR ANSWER HERE The weights shrink a little bit"
   ]
  },
  {
   "cell_type": "markdown",
   "metadata": {},
   "source": [
    "**Given what you know about MaxNorm regularization, are you surprised by these results?**"
   ]
  },
  {
   "cell_type": "markdown",
   "metadata": {
    "deletable": false,
    "nbgrader": {
     "cell_type": "markdown",
     "checksum": "3c36931d3532a8cbcb4ea0c956378728",
     "grade": true,
     "grade_id": "cell-77366a912217da5d",
     "locked": false,
     "points": 0,
     "schema_version": 3,
     "solution": true,
     "task": false
    }
   },
   "source": [
    "YOUR ANSWER HERE No"
   ]
  },
  {
   "cell_type": "markdown",
   "metadata": {},
   "source": [
    "-----\n",
    "# Experiment 3: Identify the relationship between model performance and Dropout\n",
    "\n",
    "\n",
    "![](https://miro.medium.com/max/981/1*EinUlWw1n8vbcLyT0zx4gw.png)\n",
    "\n",
    "In the 3rd and final experiment, we will use gridsearch to see how model performance is affect by varying the value of the the dropout probability. \n",
    "\n",
    "Recall from lecture that dropout tends to perform best when used with weight constraint. Since this is the case, we will gridsearch both dropout probability and the weight constraint for MaxNorm. \n",
    "\n",
    "If interested, feel free to read through the original publication on [**Drop Out**](https://jmlr.org/papers/volume15/srivastava14a.old/srivastava14a.pdf). \n",
    "\n",
    "**Key Take aways:** \n",
    "\n",
    "1. During training, dropout will probabilistically \"turn off\" some neurons in the layer that dropout is implemented in. \n",
    "2. During inference (ie. making predictions on the test set) all neurons are used (i.e. no dropout is applied).\n",
    "3. Dropout works best when used with MaxNorm\n"
   ]
  },
  {
   "cell_type": "code",
   "execution_count": 198,
   "metadata": {},
   "outputs": [
    {
     "data": {
      "text/plain": [
       "{'maxnorm_wc': (0.5, 1, 1.5, 2, 2.5, 3, 3.5, 4, 4.5, 5),\n",
       " 'dropout_prob': (0.0, 0.1, 0.2, 0.3, 0.4, 0.5, 0.6),\n",
       " 'epochs': [1]}"
      ]
     },
     "execution_count": 198,
     "metadata": {},
     "output_type": "execute_result"
    }
   ],
   "source": [
    "# build out our hyperparameter dictionary \n",
    "hyper_parameters = {\n",
    "    # for the sake of runtime, let's vary maxnorm_wc between 0.5 and 5.0\n",
    "    \"maxnorm_wc\": (0.5, 1, 1.5, 2, 2.5, 3, 3.5, 4, 4.5, 5),\n",
    "    # take note that l1_reg_penalty values are in powers of 10 \n",
    "    \"dropout_prob\": (0.0, 0.1, 0.2, 0.3, 0.4, 0.5, 0.6),\n",
    "    \"epochs\": [1] # default is 1, in order to change it we must provide value here because we can provide a parameter value for model.fit() directly when using gridsearch\n",
    "}\n",
    "\n",
    "hyper_parameters"
   ]
  },
  {
   "cell_type": "code",
   "execution_count": 199,
   "metadata": {},
   "outputs": [
    {
     "name": "stdout",
     "output_type": "stream",
     "text": [
      "Fitting 3 folds for each of 70 candidates, totalling 210 fits\n",
      "1875/1875 [==============================] - 3s 2ms/step - loss: 0.6453 - accuracy: 0.7763\n"
     ]
    }
   ],
   "source": [
    "start=time()\n",
    "# Create and run Grid Search\n",
    "grid = GridSearchCV(estimator=model, \n",
    "                    param_grid=hyper_parameters, \n",
    "                    n_jobs=-2, \n",
    "                    verbose=1, \n",
    "                    cv=3)\n",
    "\n",
    "grid_result = grid.fit(X_train, y_train)\n",
    "end=time()"
   ]
  },
  {
   "cell_type": "code",
   "execution_count": 200,
   "metadata": {},
   "outputs": [
    {
     "name": "stdout",
     "output_type": "stream",
     "text": [
      "Gridsearch runtime 4.07 mins\n"
     ]
    }
   ],
   "source": [
    "print(\"Gridsearch runtime {0:.3} mins\".format( (end-start)/60 ))"
   ]
  },
  {
   "cell_type": "code",
   "execution_count": 201,
   "metadata": {},
   "outputs": [],
   "source": [
    "# use the mean accuracy from the CV splits for determining best model score \n",
    "means = grid.cv_results_['mean_test_score']\n",
    "stds = grid.cv_results_['std_test_score']\n",
    "params = grid.cv_results_['params']\n",
    "\n",
    "# move l2 penalty values outside of dictionary and into a list\n",
    "param_values = [dic[\"dropout_prob\"] for dic in params]"
   ]
  },
  {
   "cell_type": "markdown",
   "metadata": {},
   "source": [
    "Since there are 2 indepdent variables this time around (dropout_prob and maxnorm_wc) which affect the validation accuracy, it's best to use a different plot. A heat map will work. "
   ]
  },
  {
   "cell_type": "code",
   "execution_count": 202,
   "metadata": {},
   "outputs": [],
   "source": [
    "dropout_prob_list = [  dic[\"dropout_prob\"]  for dic in params]\n",
    "maxnorm_wc_list = [  dic[\"maxnorm_wc\"]  for dic in params]\n",
    "data = [means, dropout_prob_list, maxnorm_wc_list ]\n",
    "\n",
    "cols = [\"val_acc\", \"dropout_prob\", \"maxnorm_wc\"]\n",
    "df_exp3 =pd.DataFrame(data=data).T\n",
    "df_exp3.columns = cols\n",
    "df_exp3.dropout_prob = df_exp3.dropout_prob.round(2)\n",
    "\n",
    "# pivot dataframe in preperation for heat map\n",
    "df_exp3 = df_exp3.pivot(\"maxnorm_wc\", \"dropout_prob\", \"val_acc\")"
   ]
  },
  {
   "cell_type": "code",
   "execution_count": 203,
   "metadata": {},
   "outputs": [
    {
     "data": {
      "image/png": "[encoded data removed]",
      "text/plain": [
       "<Figure size 1296x576 with 2 Axes>"
      ]
     },
     "metadata": {
      "needs_background": "light"
     },
     "output_type": "display_data"
    }
   ],
   "source": [
    "# Draw a heatmap with the val_acc values in each cell\n",
    "f, ax = plt.subplots(figsize=(18, 8))\n",
    "sns.heatmap(df_exp3, annot=True,  linewidths=.5, ax=ax);"
   ]
  },
  {
   "cell_type": "markdown",
   "metadata": {},
   "source": [
    "### Observations \n",
    "\n",
    "We can see the dropout probabilities in the horizontal axis and the maxnorm weight constraint values in the virtical axis. The values in the cells are the validation accuracy that corresponds to a pair of regularization values.\n",
    "\n",
    "Take a look at the heat map and answer the following questions. Note that depending on which model you used (the simple or complex one) your answers might be different from that of others. "
   ]
  },
  {
   "cell_type": "markdown",
   "metadata": {},
   "source": [
    "**What range of dropout probability values tend to produce the highest validation accuracy?**"
   ]
  },
  {
   "cell_type": "markdown",
   "metadata": {
    "deletable": false,
    "nbgrader": {
     "cell_type": "markdown",
     "checksum": "0f0013d4e07104a03b4d51664a308f53",
     "grade": true,
     "grade_id": "cell-4e0cb7a9240b1531",
     "locked": false,
     "points": 0,
     "schema_version": 3,
     "solution": true,
     "task": false
    }
   },
   "source": [
    "YOUR ANSWER HERE 0.0-0.2"
   ]
  },
  {
   "cell_type": "markdown",
   "metadata": {},
   "source": [
    "**What range of maxnorm weight constraints tend to produce the highest validation accuracy?**"
   ]
  },
  {
   "cell_type": "markdown",
   "metadata": {
    "deletable": false,
    "nbgrader": {
     "cell_type": "markdown",
     "checksum": "9fd88f0bb870a910b925d60b38d17694",
     "grade": true,
     "grade_id": "cell-99539755d7d328f7",
     "locked": false,
     "points": 0,
     "schema_version": 3,
     "solution": true,
     "task": false
    }
   },
   "source": [
    "YOUR ANSWER HERE 2-5"
   ]
  },
  {
   "cell_type": "markdown",
   "metadata": {},
   "source": [
    "**When taken together, what pair of dropout probability and maxnorm weight constraints tend to produce the highest validation accuracy?**"
   ]
  },
  {
   "cell_type": "markdown",
   "metadata": {
    "deletable": false,
    "nbgrader": {
     "cell_type": "markdown",
     "checksum": "fee1e09ed8f6d354bd7b6e2986c2b811",
     "grade": true,
     "grade_id": "cell-5e19a56b4a2d975d",
     "locked": false,
     "points": 0,
     "schema_version": 3,
     "solution": true,
     "task": false
    }
   },
   "source": [
    "YOUR ANSWER HERE (0.1, 5.0) (0.2, 3.5) (0.0, 2.5) (0.1, 2.0)"
   ]
  },
  {
   "cell_type": "markdown",
   "metadata": {},
   "source": [
    "**Do you think that using dropout was helpful in increasing model performance?**"
   ]
  },
  {
   "cell_type": "markdown",
   "metadata": {
    "deletable": false,
    "nbgrader": {
     "cell_type": "markdown",
     "checksum": "de9c1bcff3c5eb6266cc80632d0956f0",
     "grade": true,
     "grade_id": "cell-d2a2f7b284c801dc",
     "locked": false,
     "points": 0,
     "schema_version": 3,
     "solution": true,
     "task": false
    }
   },
   "source": [
    "YOUR ANSWER HERE Not much"
   ]
  },
  {
   "cell_type": "markdown",
   "metadata": {},
   "source": [
    "-----\n",
    "# Stretch Goals for $L_p$ Space section\n",
    "\n",
    "Here are some ideas that you can explore using the custom distance metric class that you have built. Though if you think of something else, go for it!\n",
    "\n",
    "- Run a similar experiment but instead of comparing L2 between Keras and our custom class, compare L1 (Lasso) \n",
    "- Run a similar experiment but instead of comparing L2 between Keras and our custom class, compare L1_L2 (Elastic Net) \n",
    "- Run a gridsearch across several different Lp distance metrics and strengths and see which Lp distance leads to the best performing model\n",
    "    - Consider selecting a p range between **[1, 1.5, 2, 2.5, 3, 3.5, 4, 4.5, 5, ..., 10]** step size of 0.5\n",
    "    - Consider selecting a p range between **[1, 10, 100, 1000, 10000]** step size in powers of 10"
   ]
  },
  {
   "cell_type": "code",
   "execution_count": null,
   "metadata": {},
   "outputs": [],
   "source": []
  },
  {
   "cell_type": "code",
   "execution_count": null,
   "metadata": {},
   "outputs": [],
   "source": []
  },
  {
   "cell_type": "markdown",
   "metadata": {},
   "source": [
    "_____\n",
    "\n",
    "### Experiment 4: Train, Save, and Load a Keras model\n",
    "\n",
    "Let's get some practice with how to save and load trained Keras models \n",
    "\n",
    "For this experiment, review the section on Saving and Loading models from the guided project in order to help you to: \n",
    "\n",
    "- Build a model of your choosing\n",
    "- Gridsearch the model with a method of your choosing\n",
    "- Save the trained model to file\n",
    "- Load the trained model from file\n",
    "- Just as we did in the Guided Project, evalute the loaded model using a test set and make sure the results of the loaded model match that of the saved model "
   ]
  },
  {
   "cell_type": "code",
   "execution_count": 210,
   "metadata": {},
   "outputs": [],
   "source": [
    "def create_model():\n",
    "\n",
    "    model = tf.keras.Sequential([\n",
    "          Flatten(input_shape=(28,28)),\n",
    "          Dense(250),\n",
    "          ReLU(negative_slope=.01),\n",
    "          Dense(128),\n",
    "          ReLU(negative_slope=.01),\n",
    "          Dense(32),\n",
    "          ReLU(negative_slope=.01),\n",
    "          Dense(10, activation='softmax')\n",
    "        ])\n",
    "\n",
    "    model.compile(loss='sparse_categorical_crossentropy', optimizer='adam', metrics=['accuracy'])\n",
    "\n",
    "    return model\n",
    "\n",
    "model = KerasClassifier(build_fn=create_model)"
   ]
  },
  {
   "cell_type": "code",
   "execution_count": 213,
   "metadata": {},
   "outputs": [
    {
     "name": "stdout",
     "output_type": "stream",
     "text": [
      "Fitting 3 folds for each of 4 candidates, totalling 12 fits\n",
      "Epoch 1/10\n",
      "120/120 [==============================] - 1s 5ms/step - loss: 1.0091 - accuracy: 0.6660\n",
      "Epoch 2/10\n",
      "120/120 [==============================] - 1s 5ms/step - loss: 0.4449 - accuracy: 0.8422\n",
      "Epoch 3/10\n",
      "120/120 [==============================] - 1s 5ms/step - loss: 0.3800 - accuracy: 0.8642\n",
      "Epoch 4/10\n",
      "120/120 [==============================] - 1s 5ms/step - loss: 0.3503 - accuracy: 0.8725\n",
      "Epoch 5/10\n",
      "120/120 [==============================] - 1s 5ms/step - loss: 0.3262 - accuracy: 0.8824\n",
      "Epoch 6/10\n",
      "120/120 [==============================] - 1s 5ms/step - loss: 0.3094 - accuracy: 0.8860\n",
      "Epoch 7/10\n",
      "120/120 [==============================] - 1s 5ms/step - loss: 0.2974 - accuracy: 0.8918\n",
      "Epoch 8/10\n",
      "120/120 [==============================] - 1s 5ms/step - loss: 0.2851 - accuracy: 0.8947\n",
      "Epoch 9/10\n",
      "120/120 [==============================] - 1s 6ms/step - loss: 0.2710 - accuracy: 0.9023\n",
      "Epoch 10/10\n",
      "120/120 [==============================] - 1s 5ms/step - loss: 0.2657 - accuracy: 0.9033\n"
     ]
    }
   ],
   "source": [
    "param_grid = {'batch_size': [1000, 500],\n",
    "              'epochs': [5, 10]}\n",
    "\n",
    "gs = GridSearchCV(estimator=model, \n",
    "                    param_grid=param_grid, \n",
    "                    n_jobs=-3, \n",
    "                    verbose=2, \n",
    "                    cv=3)\n",
    "\n",
    "grid_result = gs.fit(X_train,y_train)"
   ]
  },
  {
   "cell_type": "code",
   "execution_count": 223,
   "metadata": {},
   "outputs": [
    {
     "data": {
      "text/plain": [
       "{'batch_size': 500, 'epochs': 10}"
      ]
     },
     "execution_count": 223,
     "metadata": {},
     "output_type": "execute_result"
    }
   ],
   "source": [
    "grid_result.best_params_"
   ]
  },
  {
   "cell_type": "code",
   "execution_count": 217,
   "metadata": {},
   "outputs": [
    {
     "name": "stdout",
     "output_type": "stream",
     "text": [
      "Epoch 1/10\n",
      "120/120 [==============================] - 1s 4ms/step - loss: 1.0580 - accuracy: 0.6421\n",
      "Epoch 2/10\n",
      "120/120 [==============================] - 0s 4ms/step - loss: 0.4362 - accuracy: 0.8454\n",
      "Epoch 3/10\n",
      "120/120 [==============================] - 0s 4ms/step - loss: 0.3760 - accuracy: 0.8664\n",
      "Epoch 4/10\n",
      "120/120 [==============================] - 1s 4ms/step - loss: 0.3483 - accuracy: 0.8762\n",
      "Epoch 5/10\n",
      "120/120 [==============================] - 0s 4ms/step - loss: 0.3225 - accuracy: 0.8840\n",
      "Epoch 6/10\n",
      "120/120 [==============================] - 1s 4ms/step - loss: 0.3010 - accuracy: 0.8916\n",
      "Epoch 7/10\n",
      "120/120 [==============================] - 0s 4ms/step - loss: 0.2907 - accuracy: 0.8957\n",
      "Epoch 8/10\n",
      "120/120 [==============================] - 0s 4ms/step - loss: 0.2847 - accuracy: 0.8955\n",
      "Epoch 9/10\n",
      "120/120 [==============================] - 0s 4ms/step - loss: 0.2712 - accuracy: 0.9015\n",
      "Epoch 10/10\n",
      "120/120 [==============================] - 0s 4ms/step - loss: 0.2590 - accuracy: 0.9050\n",
      "INFO:tensorflow:Assets written to: saved_model/my_model/assets\n"
     ]
    }
   ],
   "source": [
    "# Save the entire model as a SavedModel.\n",
    "model = create_model()\n",
    "model.fit(X_train,y_train, epochs=10, batch_size=500)\n",
    "!mkdir -p saved_model\n",
    "model.save('saved_model/my_model') "
   ]
  },
  {
   "cell_type": "code",
   "execution_count": 218,
   "metadata": {},
   "outputs": [
    {
     "name": "stdout",
     "output_type": "stream",
     "text": [
      "Model: \"sequential_32\"\n",
      "_________________________________________________________________\n",
      "Layer (type)                 Output Shape              Param #   \n",
      "=================================================================\n",
      "flatten_34 (Flatten)         (None, 784)               0         \n",
      "_________________________________________________________________\n",
      "dense_88 (Dense)             (None, 250)               196250    \n",
      "_________________________________________________________________\n",
      "re_lu_55 (ReLU)              (None, 250)               0         \n",
      "_________________________________________________________________\n",
      "dense_89 (Dense)             (None, 128)               32128     \n",
      "_________________________________________________________________\n",
      "re_lu_56 (ReLU)              (None, 128)               0         \n",
      "_________________________________________________________________\n",
      "dense_90 (Dense)             (None, 32)                4128      \n",
      "_________________________________________________________________\n",
      "re_lu_57 (ReLU)              (None, 32)                0         \n",
      "_________________________________________________________________\n",
      "dense_91 (Dense)             (None, 10)                330       \n",
      "=================================================================\n",
      "Total params: 232,836\n",
      "Trainable params: 232,836\n",
      "Non-trainable params: 0\n",
      "_________________________________________________________________\n"
     ]
    }
   ],
   "source": [
    "new_model = tf.keras.models.load_model('saved_model/my_model')\n",
    "\n",
    "# Check its architecture\n",
    "new_model.summary()"
   ]
  },
  {
   "cell_type": "code",
   "execution_count": 219,
   "metadata": {},
   "outputs": [
    {
     "name": "stdout",
     "output_type": "stream",
     "text": [
      "313/313 [==============================] - 0s 991us/step - loss: 0.3566 - accuracy: 0.8713\n"
     ]
    },
    {
     "data": {
      "text/plain": [
       "[0.356641948223114, 0.8712999820709229]"
      ]
     },
     "execution_count": 219,
     "metadata": {},
     "output_type": "execute_result"
    }
   ],
   "source": [
    "new_model.evaluate(X_test, y_test)"
   ]
  },
  {
   "cell_type": "code",
   "execution_count": 221,
   "metadata": {},
   "outputs": [
    {
     "name": "stdout",
     "output_type": "stream",
     "text": [
      "313/313 [==============================] - 0s 968us/step - loss: 0.3566 - accuracy: 0.8713\n"
     ]
    },
    {
     "data": {
      "text/plain": [
       "[0.356641948223114, 0.8712999820709229]"
      ]
     },
     "execution_count": 221,
     "metadata": {},
     "output_type": "execute_result"
    }
   ],
   "source": [
    "model.evaluate(X_test, y_test)"
   ]
  }
 ],
 "metadata": {
  "colab": {
   "collapsed_sections": [],
   "name": "LS_DS_434_Deploy_Assignment.ipynb",
   "provenance": []
  },
  "kernelspec": {
   "display_name": "Python 3",
   "language": "python",
   "name": "python3"
  },
  "language_info": {
   "codemirror_mode": {
    "name": "ipython",
    "version": 3
   },
   "file_extension": ".py",
   "mimetype": "text/x-python",
   "name": "python",
   "nbconvert_exporter": "python",
   "pygments_lexer": "ipython3",
   "version": "3.8.5"
  },
  "nteract": {
   "version": "0.22.4"
  }
 },
 "nbformat": 4,
 "nbformat_minor": 4
}
