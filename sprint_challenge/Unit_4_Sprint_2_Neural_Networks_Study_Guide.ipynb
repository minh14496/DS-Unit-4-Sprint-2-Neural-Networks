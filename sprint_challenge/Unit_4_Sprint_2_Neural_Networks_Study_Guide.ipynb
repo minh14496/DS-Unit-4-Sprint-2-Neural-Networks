{
 "cells": [
  {
   "cell_type": "markdown",
   "metadata": {
    "colab_type": "text",
    "id": "view-in-github"
   },
   "source": [
    "<a href=\"https://colab.research.google.com/github/bundickm/Study-Guides/blob/master/Unit_4_Sprint_2_Neural_Networks_Study_Guide.ipynb\" target=\"_parent\"><img src=\"https://colab.research.google.com/assets/colab-badge.svg\" alt=\"Open In Colab\"/></a>"
   ]
  },
  {
   "cell_type": "markdown",
   "metadata": {
    "colab_type": "text",
    "id": "FVwDfNcdqlbZ"
   },
   "source": [
    "This study guide should reinforce and provide practice for all of the concepts you have seen in the past week. There are a mix of written questions and coding exercises, both are equally important to prepare you for the sprint challenge as well as to be able to speak on these topics comfortably in interviews and on the job.\n",
    "\n",
    "If you get stuck or are unsure of something remember the 20 minute rule. If that doesn't help, then research a solution with google and stackoverflow. Only once you have exausted these methods should you turn to your Team Lead - they won't be there on your SC or during an interview. That being said, don't hesitate to ask for help if you truly are stuck.\n",
    "\n",
    "Have fun studying!"
   ]
  },
  {
   "cell_type": "markdown",
   "metadata": {
    "colab_type": "text",
    "id": "zHl_qn9TpggG"
   },
   "source": [
    "# Neural Networks by Hand"
   ]
  },
  {
   "cell_type": "markdown",
   "metadata": {
    "colab_type": "text",
    "id": "F3LTw7Csr53V"
   },
   "source": [
    "## Definitions"
   ]
  },
  {
   "cell_type": "markdown",
   "metadata": {
    "colab_type": "text",
    "id": "ssxAniIZqxxU"
   },
   "source": [
    "Define the following terms in your own words, do not simply copy and paste a definition found elsewhere but reword it to be understandable and memorable to you. *Double click the markdown to add your definitions.*\n",
    "\n",
    "**Input Layer:** `Your Answer Here`\n",
    "\n",
    "**Hidden Layer:** `Your Answer Here`\n",
    "\n",
    "**Output Layer:** `Your Answer Here`\n",
    "\n",
    "**Neuron:** `Your Answer Here`\n",
    "\n",
    "**Weight:** `Your Answer Here`\n",
    "\n",
    "**Bias:** `Your Answer Here`\n",
    "\n",
    "**Activation Function:** `Your Answer Here`\n",
    "\n",
    "**Node Map:** `Your Answer Here`\n",
    "\n",
    "**Perceptron:** `Your Answer Here`\n",
    "\n",
    "**Epoch:** `Your Answer Here`\n",
    "\n",
    "**Feed Forward Neural Network:** `Your Answer Here`\n",
    "\n",
    "**Back Propagation:** `Your Answer Here`"
   ]
  },
  {
   "cell_type": "markdown",
   "metadata": {
    "colab_type": "text",
    "id": "ZgO6aE9br9N9"
   },
   "source": [
    "## Questions of Understanding\n"
   ]
  },
  {
   "cell_type": "markdown",
   "metadata": {
    "colab_type": "text",
    "id": "SwG5JUtEzMGh"
   },
   "source": [
    "1. Name 2 activation functions and when they might be used\n",
    " 1. `Your Answer Here`\n",
    " 2. `Your Answer Here`\n",
    "\n",
    "2. What types of machine learning problems are neural networks best suited for?\n",
    "```\n",
    "Your Answer Here\n",
    "```\n",
    "\n",
    "3. In a linear regression problem, we can attempt to account for nonlinear features with polynomial features. What problem do we encounter as our feature size increases? How does a neural network avoid/address this issue?\n",
    "```\n",
    "Your Answer Here\n",
    "```\n",
    "\n",
    "4. What are some of the tradeoffs of using a neural network versus a traditional machine learning algorithm like linear regression or a decision tree?\n",
    "```\n",
    "Your Answer Here\n",
    "```\n",
    "\n",
    "5. What determines the size of the input layer?\n",
    "```\n",
    "Your Answer Here\n",
    "```"
   ]
  },
  {
   "cell_type": "markdown",
   "metadata": {
    "colab_type": "text",
    "id": "QiNp8dSK8rcx"
   },
   "source": [
    "## Perceptrons"
   ]
  },
  {
   "cell_type": "markdown",
   "metadata": {
    "colab_type": "text",
    "id": "nDGlUI2A85tS"
   },
   "source": [
    "Use the starter code below to build a perceptron, with just numpy, to predict whether a passenger survived or not. You may reduce the number of features for X to fit code you have already worked on throughout the week, but it is recommended that you modify the code instead."
   ]
  },
  {
   "cell_type": "code",
   "execution_count": 19,
   "metadata": {
    "colab": {
     "base_uri": "https://localhost:8080/",
     "height": 242
    },
    "colab_type": "code",
    "id": "GkUhPR-HpieB",
    "outputId": "fe117023-26bf-49ba-e8de-eee654b27b9f"
   },
   "outputs": [
    {
     "name": "stdout",
     "output_type": "stream",
     "text": [
      "Shape: (887, 7) \n",
      "\n"
     ]
    },
    {
     "data": {
      "text/html": [
       "<div>\n",
       "<style scoped>\n",
       "    .dataframe tbody tr th:only-of-type {\n",
       "        vertical-align: middle;\n",
       "    }\n",
       "\n",
       "    .dataframe tbody tr th {\n",
       "        vertical-align: top;\n",
       "    }\n",
       "\n",
       "    .dataframe thead th {\n",
       "        text-align: right;\n",
       "    }\n",
       "</style>\n",
       "<table border=\"1\" class=\"dataframe\">\n",
       "  <thead>\n",
       "    <tr style=\"text-align: right;\">\n",
       "      <th></th>\n",
       "      <th>Survived</th>\n",
       "      <th>Pclass</th>\n",
       "      <th>Sex</th>\n",
       "      <th>Age</th>\n",
       "      <th>Siblings/Spouses Aboard</th>\n",
       "      <th>Parents/Children Aboard</th>\n",
       "      <th>Fare</th>\n",
       "    </tr>\n",
       "  </thead>\n",
       "  <tbody>\n",
       "    <tr>\n",
       "      <th>0</th>\n",
       "      <td>0</td>\n",
       "      <td>3</td>\n",
       "      <td>1</td>\n",
       "      <td>22.0</td>\n",
       "      <td>1</td>\n",
       "      <td>0</td>\n",
       "      <td>7.2500</td>\n",
       "    </tr>\n",
       "    <tr>\n",
       "      <th>1</th>\n",
       "      <td>1</td>\n",
       "      <td>1</td>\n",
       "      <td>0</td>\n",
       "      <td>38.0</td>\n",
       "      <td>1</td>\n",
       "      <td>0</td>\n",
       "      <td>71.2833</td>\n",
       "    </tr>\n",
       "    <tr>\n",
       "      <th>2</th>\n",
       "      <td>1</td>\n",
       "      <td>3</td>\n",
       "      <td>0</td>\n",
       "      <td>26.0</td>\n",
       "      <td>0</td>\n",
       "      <td>0</td>\n",
       "      <td>7.9250</td>\n",
       "    </tr>\n",
       "    <tr>\n",
       "      <th>3</th>\n",
       "      <td>1</td>\n",
       "      <td>1</td>\n",
       "      <td>0</td>\n",
       "      <td>35.0</td>\n",
       "      <td>1</td>\n",
       "      <td>0</td>\n",
       "      <td>53.1000</td>\n",
       "    </tr>\n",
       "    <tr>\n",
       "      <th>4</th>\n",
       "      <td>0</td>\n",
       "      <td>3</td>\n",
       "      <td>1</td>\n",
       "      <td>35.0</td>\n",
       "      <td>0</td>\n",
       "      <td>0</td>\n",
       "      <td>8.0500</td>\n",
       "    </tr>\n",
       "  </tbody>\n",
       "</table>\n",
       "</div>"
      ],
      "text/plain": [
       "   Survived  Pclass  ...  Parents/Children Aboard     Fare\n",
       "0         0       3  ...                        0   7.2500\n",
       "1         1       1  ...                        0  71.2833\n",
       "2         1       3  ...                        0   7.9250\n",
       "3         1       1  ...                        0  53.1000\n",
       "4         0       3  ...                        0   8.0500\n",
       "\n",
       "[5 rows x 7 columns]"
      ]
     },
     "execution_count": 19,
     "metadata": {
      "tags": []
     },
     "output_type": "execute_result"
    }
   ],
   "source": [
    "import pandas as pd\n",
    "\n",
    "df = pd.read_csv('https://raw.githubusercontent.com/bundickm/Study-Guides/master/data/titanic.csv')\n",
    "print('Shape:', df.shape, '\\n')\n",
    "df.head()"
   ]
  },
  {
   "cell_type": "code",
   "execution_count": 0,
   "metadata": {
    "colab": {},
    "colab_type": "code",
    "id": "95aCFxje_XD5"
   },
   "outputs": [],
   "source": [
    "X = np.array(df.drop(columns='Survived'))\n",
    "y = df['Survived']"
   ]
  },
  {
   "cell_type": "code",
   "execution_count": 0,
   "metadata": {
    "colab": {},
    "colab_type": "code",
    "id": "umUm9VbKHzky"
   },
   "outputs": [],
   "source": []
  },
  {
   "cell_type": "markdown",
   "metadata": {
    "colab_type": "text",
    "id": "XPHva8JJABGZ"
   },
   "source": [
    "Create a multilayer perceptron with back propagation, with just numpy, and apply it to the same data set."
   ]
  },
  {
   "cell_type": "code",
   "execution_count": 0,
   "metadata": {
    "colab": {},
    "colab_type": "code",
    "id": "v0CEOwQzH95a"
   },
   "outputs": [],
   "source": []
  },
  {
   "cell_type": "markdown",
   "metadata": {
    "colab_type": "text",
    "id": "xfZ-6Rh8BGgb"
   },
   "source": [
    "*In a short paragraph, answer the following:*\n",
    "\n",
    "Why does the multilayer perceptron perform better than the simple perceptron? What limits the simple perceptron? What aspects of the multilayer perceptron allow it to overcome those limitations?\n",
    "\n",
    "```\n",
    "Your Answer Here\n",
    "```"
   ]
  },
  {
   "cell_type": "markdown",
   "metadata": {
    "colab_type": "text",
    "id": "mhki00NLpxtf"
   },
   "source": [
    "# Keras"
   ]
  },
  {
   "cell_type": "markdown",
   "metadata": {
    "colab_type": "text",
    "id": "7njBYhdeLZuk"
   },
   "source": [
    "## Definitions"
   ]
  },
  {
   "cell_type": "markdown",
   "metadata": {
    "colab_type": "text",
    "id": "BwrDo98ALZu1"
   },
   "source": [
    "Define the following terms in your own words, do not simply copy and paste a definition found elsewhere but reword it to be understandable and memorable to you. *Double click the markdown to add your definitions.*\n",
    "\n",
    "**Earl Stopping:** `Your Answer Here`\n",
    "\n",
    "**Weight Decay:** `Your Answer Here`\n",
    "\n",
    "**Dropout:** `Your Answer Here`\n",
    "\n",
    "<br/>\n",
    "The following are hyperparameters:\n",
    "\n",
    "**Activation Functions:** `Your Answer Here`\n",
    "\n",
    "**Optimizer** `Your Answer Here`\n",
    "\n",
    "**Number of Layers** `Your Answer Here`\n",
    "\n",
    "**Number of Neurons** `Your Answer Here`\n",
    "\n",
    "**Batch Size** `Your Answer Here`\n",
    "\n",
    "**Dropout Regularization** `Your Answer Here`\n",
    "\n",
    "**Learning Rate** `Your Answer Here`\n",
    "\n",
    "**Number of Epochs** `Your Answer Here`"
   ]
  },
  {
   "cell_type": "markdown",
   "metadata": {
    "colab_type": "text",
    "id": "QZ_azU3fNlu5"
   },
   "source": [
    "## Questions of Understanding\n"
   ]
  },
  {
   "cell_type": "markdown",
   "metadata": {
    "colab_type": "text",
    "id": "KFhdxE3ONlvN"
   },
   "source": [
    "1. Why is it recommended to normalize your input data?\n",
    "```\n",
    "Your Answer Here\n",
    "```\n",
    "\n",
    "2. How do you go about deciding on your neural network's architecture?\n",
    "```\n",
    "Your Answer Here\n",
    "```\n",
    "\n",
    "3. Why is regularization important with neural networks?\n",
    "```\n",
    "Your Answer Here\n",
    "```\n",
    "\n",
    "4. What does `validation.data` do?\n",
    "```\n",
    "Your Answer Here\n",
    "```\n",
    "\n",
    "5. Why is hyperparameter tuning so important with neural networks?\n",
    "```\n",
    "Your Answer Here\n",
    "```"
   ]
  },
  {
   "cell_type": "markdown",
   "metadata": {
    "colab_type": "text",
    "id": "D2q0E4XJPmnJ"
   },
   "source": [
    "## Modeling"
   ]
  },
  {
   "cell_type": "markdown",
   "metadata": {
    "colab_type": "text",
    "id": "mMLs3asmPpkb"
   },
   "source": [
    "Using the same dataset as above, use Keras to build a model and find its accuracy."
   ]
  },
  {
   "cell_type": "code",
   "execution_count": 0,
   "metadata": {
    "colab": {},
    "colab_type": "code",
    "id": "J93kXczUp6z2"
   },
   "outputs": [],
   "source": []
  },
  {
   "cell_type": "markdown",
   "metadata": {
    "colab_type": "text",
    "id": "k7lhqCTsQdTF"
   },
   "source": [
    "Build upon the model you created in the cell above by adding hyperparameter tuning."
   ]
  },
  {
   "cell_type": "code",
   "execution_count": 0,
   "metadata": {
    "colab": {},
    "colab_type": "code",
    "id": "pmZ8WvzHQn3L"
   },
   "outputs": [],
   "source": []
  },
  {
   "cell_type": "markdown",
   "metadata": {
    "colab_type": "text",
    "id": "whVu711pQoN3"
   },
   "source": [
    "Find the accuracy of the tuned model."
   ]
  },
  {
   "cell_type": "code",
   "execution_count": 0,
   "metadata": {
    "colab": {},
    "colab_type": "code",
    "id": "R_1Aq4LxQwpp"
   },
   "outputs": [],
   "source": []
  },
  {
   "cell_type": "markdown",
   "metadata": {
    "colab_type": "text",
    "id": "6GQaJEGvQw4W"
   },
   "source": [
    "In a short paragraph, explain how the hyperparameters impacted the accuracy of your model.\n",
    "\n",
    "```\n",
    "You Answer Here\n",
    "```"
   ]
  }
 ],
 "metadata": {
  "colab": {
   "authorship_tag": "ABX9TyM8j//GUTlf4ugOAkUePdY0",
   "include_colab_link": true,
   "name": "Unit_4_Sprint_2_Neural_Networks_Study_Guide.ipynb",
   "provenance": []
  },
  "kernelspec": {
   "display_name": "Python 3",
   "language": "python",
   "name": "python3"
  },
  "language_info": {
   "codemirror_mode": {
    "name": "ipython",
    "version": 3
   },
   "file_extension": ".py",
   "mimetype": "text/x-python",
   "name": "python",
   "nbconvert_exporter": "python",
   "pygments_lexer": "ipython3",
   "version": "3.8.5"
  }
 },
 "nbformat": 4,
 "nbformat_minor": 1
}
